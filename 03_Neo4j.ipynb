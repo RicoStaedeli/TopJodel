{
 "cells": [
  {
   "metadata": {},
   "cell_type": "markdown",
   "source": "# Neo4j - Initial Setup",
   "id": "35a4fa41490ffc4c"
  },
  {
   "cell_type": "code",
   "id": "initial_id",
   "metadata": {
    "collapsed": true,
    "ExecuteTime": {
     "end_time": "2025-10-28T07:13:29.036789Z",
     "start_time": "2025-10-28T07:13:29.033362Z"
    }
   },
   "source": [
    "from NeoDB.neo4j_repo import Neo4jRepository\n",
    "from NeoDB.connection import get_neo4j_driver\n",
    "import pandas as pd"
   ],
   "outputs": [],
   "execution_count": 7
  },
  {
   "metadata": {},
   "cell_type": "markdown",
   "source": "Connect to Neo4j",
   "id": "195905fd744f1db9"
  },
  {
   "metadata": {
    "ExecuteTime": {
     "end_time": "2025-10-28T07:12:02.573500Z",
     "start_time": "2025-10-28T07:12:02.570532Z"
    }
   },
   "cell_type": "code",
   "source": "driver = get_neo4j_driver()",
   "id": "c2f08bc5267cb780",
   "outputs": [],
   "execution_count": 2
  },
  {
   "metadata": {
    "ExecuteTime": {
     "end_time": "2025-10-28T07:12:04.357060Z",
     "start_time": "2025-10-28T07:12:04.355706Z"
    }
   },
   "cell_type": "code",
   "source": "neo_repo = Neo4jRepository(driver)",
   "id": "10052281014a80d6",
   "outputs": [],
   "execution_count": 3
  },
  {
   "metadata": {},
   "cell_type": "markdown",
   "source": "Create uniqueness constraint on User.username",
   "id": "c9c85996054f2585"
  },
  {
   "metadata": {
    "ExecuteTime": {
     "end_time": "2025-10-28T07:12:08.423123Z",
     "start_time": "2025-10-28T07:12:07.942830Z"
    }
   },
   "cell_type": "code",
   "source": "neo_repo.run_cypher(\"CREATE CONSTRAINT IF NOT EXISTS FOR (u:User) REQUIRE u.username IS UNIQUE\")",
   "id": "a0bc3df62ebab7c1",
   "outputs": [
    {
     "data": {
      "text/plain": [
       "[]"
      ]
     },
     "execution_count": 4,
     "metadata": {},
     "output_type": "execute_result"
    }
   ],
   "execution_count": 4
  },
  {
   "metadata": {
    "ExecuteTime": {
     "end_time": "2025-10-28T07:12:30.581688Z",
     "start_time": "2025-10-28T07:12:30.074392Z"
    }
   },
   "cell_type": "code",
   "source": "neo_repo.run_cypher(\"UNWIND $users AS u MERGE (:User {username: u})\", {\"users\": [\"alice\", \"bob\", \"carol\"]})",
   "id": "b36f727921da0a9a",
   "outputs": [
    {
     "data": {
      "text/plain": [
       "[]"
      ]
     },
     "execution_count": 5,
     "metadata": {},
     "output_type": "execute_result"
    }
   ],
   "execution_count": 5
  },
  {
   "metadata": {
    "ExecuteTime": {
     "end_time": "2025-10-28T07:12:55.340767Z",
     "start_time": "2025-10-28T07:12:54.991924Z"
    }
   },
   "cell_type": "code",
   "source": [
    "neo_repo.run_cypher(\"MATCH (a:User {username:'alice'}), (b:User {username:'bob'}) MERGE (a)-[:FOLLOWS]->(b)\")\n",
    "neo_repo.run_cypher(\"MATCH (b:User {username:'bob'}), (c:User {username:'carol'}) MERGE (b)-[:FOLLOWS]->(c)\")\n",
    "neo_repo.run_cypher(\"MATCH (a:User {username:'alice'}), (c:User {username:'carol'}) MERGE (a)-[:FOLLOWS]->(c)\")"
   ],
   "id": "edfa2d1265153ab9",
   "outputs": [
    {
     "data": {
      "text/plain": [
       "[]"
      ]
     },
     "execution_count": 6,
     "metadata": {},
     "output_type": "execute_result"
    }
   ],
   "execution_count": 6
  },
  {
   "metadata": {
    "ExecuteTime": {
     "end_time": "2025-10-28T07:13:31.609579Z",
     "start_time": "2025-10-28T07:13:31.478066Z"
    }
   },
   "cell_type": "code",
   "source": [
    "rows = neo_repo.run_cypher(\"MATCH (u:User)-[:FOLLOWS]->(v:User) RETURN u.username AS follower, v.username AS followed ORDER BY follower, followed\")\n",
    "pd.DataFrame([dict(r) for r in rows])"
   ],
   "id": "82f4f1427fbc5a82",
   "outputs": [
    {
     "data": {
      "text/plain": [
       "  follower followed\n",
       "0    alice      bob\n",
       "1    alice    carol\n",
       "2      bob    carol"
      ],
      "text/html": [
       "<div>\n",
       "<style scoped>\n",
       "    .dataframe tbody tr th:only-of-type {\n",
       "        vertical-align: middle;\n",
       "    }\n",
       "\n",
       "    .dataframe tbody tr th {\n",
       "        vertical-align: top;\n",
       "    }\n",
       "\n",
       "    .dataframe thead th {\n",
       "        text-align: right;\n",
       "    }\n",
       "</style>\n",
       "<table border=\"1\" class=\"dataframe\">\n",
       "  <thead>\n",
       "    <tr style=\"text-align: right;\">\n",
       "      <th></th>\n",
       "      <th>follower</th>\n",
       "      <th>followed</th>\n",
       "    </tr>\n",
       "  </thead>\n",
       "  <tbody>\n",
       "    <tr>\n",
       "      <th>0</th>\n",
       "      <td>alice</td>\n",
       "      <td>bob</td>\n",
       "    </tr>\n",
       "    <tr>\n",
       "      <th>1</th>\n",
       "      <td>alice</td>\n",
       "      <td>carol</td>\n",
       "    </tr>\n",
       "    <tr>\n",
       "      <th>2</th>\n",
       "      <td>bob</td>\n",
       "      <td>carol</td>\n",
       "    </tr>\n",
       "  </tbody>\n",
       "</table>\n",
       "</div>"
      ]
     },
     "execution_count": 8,
     "metadata": {},
     "output_type": "execute_result"
    }
   ],
   "execution_count": 8
  }
 ],
 "metadata": {
  "kernelspec": {
   "display_name": "Python 3",
   "language": "python",
   "name": "python3"
  },
  "language_info": {
   "codemirror_mode": {
    "name": "ipython",
    "version": 2
   },
   "file_extension": ".py",
   "mimetype": "text/x-python",
   "name": "python",
   "nbconvert_exporter": "python",
   "pygments_lexer": "ipython2",
   "version": "2.7.6"
  }
 },
 "nbformat": 4,
 "nbformat_minor": 5
}
