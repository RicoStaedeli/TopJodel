{
 "cells": [
  {
   "cell_type": "markdown",
   "id": "c7870461",
   "metadata": {},
   "source": [
    "# TopJodel - Setup and Queries\n",
    "\n",
    "This notebook connects to PostgreSQL, MongoDB, and Neo4j, then walks you through creating a tiny social media data model and running a few queries."
   ]
  },
  {
   "cell_type": "code",
   "id": "f538eac9",
   "metadata": {
    "ExecuteTime": {
     "end_time": "2025-10-16T06:17:48.634204Z",
     "start_time": "2025-10-16T06:17:48.629448Z"
    }
   },
   "source": [
    "import os\n",
    "from dotenv import load_dotenv\n",
    "\n",
    "# Load environment file\n",
    "load_dotenv(dotenv_path=\".env\", override=True)\n",
    "\n",
    "# Gather variables (no defaults)\n",
    "PGHOST = os.getenv(\"PGHOST\")\n",
    "PGPORT = os.getenv(\"PGPORT\")\n",
    "PGUSER = os.getenv(\"POSTGRES_USER\")\n",
    "PGPASSWORD = os.getenv(\"POSTGRES_PASSWORD\")\n",
    "PGDATABASE = os.getenv(\"POSTGRES_DB\")\n",
    "\n",
    "MONGO_HOST = os.getenv(\"MONGO_HOST\")\n",
    "MONGO_PORT = os.getenv(\"MONGO_PORT\")\n",
    "MONGO_USER = os.getenv(\"MONGO_INITDB_ROOT_USERNAME\")\n",
    "MONGO_PASSWORD = os.getenv(\"MONGO_INITDB_ROOT_PASSWORD\")\n",
    "\n",
    "APP_NEO4J_URI = os.getenv(\"APP_NEO4J_URI\")\n",
    "APP_NEO4J_URI_HTTP = os.getenv(\"APP_NEO4J_URI_HTTP\")\n",
    "APP_NEO4J_USER = os.getenv(\"APP_NEO4J_USER\")\n",
    "APP_NEO4J_PASSWORD = os.getenv(\"APP_NEO4J_PASSWORD\")\n",
    "\n",
    "# Collect into a dict for nice reporting\n",
    "env_vars = {\n",
    "    \"PGHOST\": PGHOST,\n",
    "    \"PGPORT\": PGPORT,\n",
    "    \"POSTGRES_USER\": PGUSER,\n",
    "    \"POSTGRES_PASSWORD\": PGPASSWORD,\n",
    "    \"POSTGRES_DB\": PGDATABASE,\n",
    "    \"MONGO_HOST\": MONGO_HOST,\n",
    "    \"MONGO_PORT\": MONGO_PORT,\n",
    "    \"MONGO_INITDB_ROOT_USERNAME\": MONGO_USER,\n",
    "    \"MONGO_INITDB_ROOT_PASSWORD\": MONGO_PASSWORD,\n",
    "    \"APP_NEO4J_URI\": APP_NEO4J_URI,\n",
    "    \"APP_NEO4J_USER\": APP_NEO4J_USER,\n",
    "    \"APP_NEO4J_URI_HTTP\": APP_NEO4J_URI_HTTP,\n",
    "    \"APP_NEO4J_PASSWORD\": APP_NEO4J_PASSWORD,\n",
    "}\n",
    "\n",
    "# Print results and highlight errors\n",
    "print(\"\\n--- Environment Variable Check ---\")\n",
    "for key, value in env_vars.items():\n",
    "    if value in (None, \"\"):\n",
    "        print(f\"❌ ERROR: {key} is not set or empty\")\n",
    "    else:\n",
    "        print(f\"✅ {key} = {value}\")\n"
   ],
   "outputs": [
    {
     "name": "stdout",
     "output_type": "stream",
     "text": [
      "\n",
      "--- Environment Variable Check ---\n",
      "✅ PGHOST = postgres\n",
      "✅ PGPORT = 55433\n",
      "✅ POSTGRES_USER = app\n",
      "✅ POSTGRES_PASSWORD = app_pw1234\n",
      "✅ POSTGRES_DB = socialdb\n",
      "✅ MONGO_HOST = mongo\n",
      "✅ MONGO_PORT = 27017\n",
      "✅ MONGO_INITDB_ROOT_USERNAME = app\n",
      "✅ MONGO_INITDB_ROOT_PASSWORD = app_pw1234\n",
      "✅ APP_NEO4J_URI = bolt://neo4j:7687\n",
      "✅ APP_NEO4J_USER = neo4j\n",
      "✅ APP_NEO4J_URI_HTTP = neo4j://localhost:7687\n",
      "✅ APP_NEO4J_PASSWORD = app_pw1234\n"
     ]
    }
   ],
   "execution_count": 44
  },
  {
   "cell_type": "markdown",
   "id": "7f1b7864",
   "metadata": {},
   "source": [
    "## PostgreSQL - create tables"
   ]
  },
  {
   "cell_type": "code",
   "id": "e23ec41797f9fe21",
   "metadata": {
    "ExecuteTime": {
     "end_time": "2025-10-16T06:17:48.662204Z",
     "start_time": "2025-10-16T06:17:48.646698Z"
    }
   },
   "source": [
    "import psycopg2\n",
    "from psycopg2.extras import execute_values\n",
    "\n",
    "conn = psycopg2.connect(\n",
    "    host=\"localhost\", port=PGPORT, user=PGUSER, password=PGPASSWORD, dbname=PGDATABASE\n",
    ")\n",
    "print(conn)\n",
    "conn.autocommit = True\n",
    "cur = conn.cursor()\n",
    "\n",
    "# Create tables\n",
    "cur.execute(\"\"\"CREATE TABLE IF NOT EXISTS users (\n",
    "  id SERIAL PRIMARY KEY,\n",
    "  username TEXT UNIQUE NOT NULL,\n",
    "  full_name TEXT,\n",
    "  created_at TIMESTAMPTZ DEFAULT NOW()\n",
    ");\n",
    "\"\"\")\n",
    "\n",
    "cur.execute(\"\"\"CREATE TABLE IF NOT EXISTS posts (\n",
    "  id SERIAL PRIMARY KEY,\n",
    "  user_id INTEGER NOT NULL REFERENCES users(id) ON DELETE CASCADE,\n",
    "  body TEXT NOT NULL,\n",
    "  created_at TIMESTAMPTZ DEFAULT NOW()\n",
    ");\n",
    "\"\"\")\n",
    "\n",
    "print(\"Tables created.\")"
   ],
   "outputs": [
    {
     "name": "stdout",
     "output_type": "stream",
     "text": [
      "<connection object at 0x10ce23b50; dsn: 'user=app password=xxx dbname=socialdb host=localhost port=55433', closed: 0>\n",
      "Tables created.\n"
     ]
    }
   ],
   "execution_count": 45
  },
  {
   "cell_type": "markdown",
   "id": "2def1697",
   "metadata": {},
   "source": [
    "### Insert sample users and posts"
   ]
  },
  {
   "cell_type": "code",
   "id": "d1af0e6c",
   "metadata": {
    "ExecuteTime": {
     "end_time": "2025-10-16T06:17:48.670975Z",
     "start_time": "2025-10-16T06:17:48.666607Z"
    }
   },
   "source": [
    "# Insert sample data only if empty\n",
    "cur.execute(\"SELECT COUNT(*) FROM users;\")\n",
    "count_users = cur.fetchone()[0]\n",
    "if count_users == 0:\n",
    "    users = [(\"alice\", \"Alice Example\"), (\"bob\", \"Bob Sample\"), (\"carol\", \"Carol Demo\")]\n",
    "    execute_values(cur, \"INSERT INTO users (username, full_name) VALUES %s ON CONFLICT DO NOTHING;\", users)\n",
    "\n",
    "cur.execute(\"SELECT COUNT(*) FROM posts;\")\n",
    "count_posts = cur.fetchone()[0]\n",
    "if count_posts == 0:\n",
    "    posts = [\n",
    "        (1, \"Hello world from Alice\"),\n",
    "        (2, \"Bob here, nice to meet you\"),\n",
    "        (1, \"Another post by Alice\"),\n",
    "        (3, \"Carol checking in\"),\n",
    "    ]\n",
    "    execute_values(cur, \"INSERT INTO posts (user_id, body) VALUES %s;\", posts)\n",
    "\n",
    "print(\"Sample data present.\")\n"
   ],
   "outputs": [
    {
     "name": "stdout",
     "output_type": "stream",
     "text": [
      "Sample data present.\n"
     ]
    }
   ],
   "execution_count": 46
  },
  {
   "cell_type": "markdown",
   "id": "f9ae8d91",
   "metadata": {},
   "source": [
    "### Query posts with users"
   ]
  },
  {
   "cell_type": "code",
   "id": "53592693",
   "metadata": {
    "ExecuteTime": {
     "end_time": "2025-10-16T06:17:48.683912Z",
     "start_time": "2025-10-16T06:17:48.677551Z"
    }
   },
   "source": [
    "import pandas as pd\n",
    "df = pd.read_sql(\"SELECT p.id, u.username, p.body, p.created_at FROM posts p JOIN users u ON p.user_id=u.id ORDER BY p.id;\", conn)\n",
    "df\n"
   ],
   "outputs": [
    {
     "name": "stderr",
     "output_type": "stream",
     "text": [
      "/var/folders/d3/4qjhzn1n1zb9shbj0sqx9g4h0000gn/T/ipykernel_1850/2658705498.py:2: UserWarning: pandas only supports SQLAlchemy connectable (engine/connection) or database string URI or sqlite3 DBAPI2 connection. Other DBAPI2 objects are not tested. Please consider using SQLAlchemy.\n",
      "  df = pd.read_sql(\"SELECT p.id, u.username, p.body, p.created_at FROM posts p JOIN users u ON p.user_id=u.id ORDER BY p.id;\", conn)\n"
     ]
    },
    {
     "data": {
      "text/plain": [
       "   id username                        body                       created_at\n",
       "0   1    alice      Hello world from Alice 2025-10-16 06:07:14.114629+00:00\n",
       "1   2      bob  Bob here, nice to meet you 2025-10-16 06:07:14.114629+00:00\n",
       "2   3    alice       Another post by Alice 2025-10-16 06:07:14.114629+00:00\n",
       "3   4    carol           Carol checking in 2025-10-16 06:07:14.114629+00:00"
      ],
      "text/html": [
       "<div>\n",
       "<style scoped>\n",
       "    .dataframe tbody tr th:only-of-type {\n",
       "        vertical-align: middle;\n",
       "    }\n",
       "\n",
       "    .dataframe tbody tr th {\n",
       "        vertical-align: top;\n",
       "    }\n",
       "\n",
       "    .dataframe thead th {\n",
       "        text-align: right;\n",
       "    }\n",
       "</style>\n",
       "<table border=\"1\" class=\"dataframe\">\n",
       "  <thead>\n",
       "    <tr style=\"text-align: right;\">\n",
       "      <th></th>\n",
       "      <th>id</th>\n",
       "      <th>username</th>\n",
       "      <th>body</th>\n",
       "      <th>created_at</th>\n",
       "    </tr>\n",
       "  </thead>\n",
       "  <tbody>\n",
       "    <tr>\n",
       "      <th>0</th>\n",
       "      <td>1</td>\n",
       "      <td>alice</td>\n",
       "      <td>Hello world from Alice</td>\n",
       "      <td>2025-10-16 06:07:14.114629+00:00</td>\n",
       "    </tr>\n",
       "    <tr>\n",
       "      <th>1</th>\n",
       "      <td>2</td>\n",
       "      <td>bob</td>\n",
       "      <td>Bob here, nice to meet you</td>\n",
       "      <td>2025-10-16 06:07:14.114629+00:00</td>\n",
       "    </tr>\n",
       "    <tr>\n",
       "      <th>2</th>\n",
       "      <td>3</td>\n",
       "      <td>alice</td>\n",
       "      <td>Another post by Alice</td>\n",
       "      <td>2025-10-16 06:07:14.114629+00:00</td>\n",
       "    </tr>\n",
       "    <tr>\n",
       "      <th>3</th>\n",
       "      <td>4</td>\n",
       "      <td>carol</td>\n",
       "      <td>Carol checking in</td>\n",
       "      <td>2025-10-16 06:07:14.114629+00:00</td>\n",
       "    </tr>\n",
       "  </tbody>\n",
       "</table>\n",
       "</div>"
      ]
     },
     "execution_count": 47,
     "metadata": {},
     "output_type": "execute_result"
    }
   ],
   "execution_count": 47
  },
  {
   "cell_type": "markdown",
   "id": "a6ae75c9",
   "metadata": {},
   "source": [
    "## MongoDB - comments collection"
   ]
  },
  {
   "cell_type": "code",
   "id": "affc06ec",
   "metadata": {
    "ExecuteTime": {
     "end_time": "2025-10-16T06:17:48.721586Z",
     "start_time": "2025-10-16T06:17:48.705992Z"
    }
   },
   "source": [
    "from pymongo import MongoClient\n",
    "import pandas as pd\n",
    "\n",
    "MONGO_HOST = \"localhost\"\n",
    "\n",
    "mongo_uri = f\"mongodb://{MONGO_USER}:{MONGO_PASSWORD}@{MONGO_HOST}:{MONGO_PORT}/admin\"\n",
    "mc = MongoClient(mongo_uri)\n",
    "mdb = mc[\"socialdb\"]\n",
    "comments = mdb[\"comments\"]\n",
    "\n",
    "# Create sample comments if empty\n",
    "if comments.count_documents({}) == 0:\n",
    "    comments.insert_many([\n",
    "        {\"post_id\": 1, \"author\": \"bob\", \"text\": \"Nice first post!\", \"created_at\": pd.Timestamp.utcnow()},\n",
    "        {\"post_id\": 1, \"author\": \"carol\", \"text\": \"Welcome Alice!\", \"created_at\": pd.Timestamp.utcnow()},\n",
    "        {\"post_id\": 2, \"author\": \"alice\", \"text\": \"Hi Bob!\", \"created_at\": pd.Timestamp.utcnow()},\n",
    "    ])\n",
    "list(comments.find().limit(5))"
   ],
   "outputs": [
    {
     "data": {
      "text/plain": [
       "[{'_id': ObjectId('68f08b92999ea9485e659b6a'),\n",
       "  'post_id': 1,\n",
       "  'author': 'bob',\n",
       "  'text': 'Nice first post!',\n",
       "  'created_at': datetime.datetime(2025, 10, 16, 6, 7, 14, 171000)},\n",
       " {'_id': ObjectId('68f08b92999ea9485e659b6b'),\n",
       "  'post_id': 1,\n",
       "  'author': 'carol',\n",
       "  'text': 'Welcome Alice!',\n",
       "  'created_at': datetime.datetime(2025, 10, 16, 6, 7, 14, 171000)},\n",
       " {'_id': ObjectId('68f08b92999ea9485e659b6c'),\n",
       "  'post_id': 2,\n",
       "  'author': 'alice',\n",
       "  'text': 'Hi Bob!',\n",
       "  'created_at': datetime.datetime(2025, 10, 16, 6, 7, 14, 171000)}]"
      ]
     },
     "execution_count": 48,
     "metadata": {},
     "output_type": "execute_result"
    }
   ],
   "execution_count": 48
  },
  {
   "cell_type": "markdown",
   "id": "35e2531e",
   "metadata": {},
   "source": [
    "### Query comments for a given post_id"
   ]
  },
  {
   "cell_type": "code",
   "id": "6be8e8be",
   "metadata": {
    "ExecuteTime": {
     "end_time": "2025-10-16T06:17:48.754696Z",
     "start_time": "2025-10-16T06:17:48.749614Z"
    }
   },
   "source": [
    "pd.DataFrame(list(comments.find({\"post_id\": 1}, {\"_id\": 0})))\n"
   ],
   "outputs": [
    {
     "data": {
      "text/plain": [
       "   post_id author              text              created_at\n",
       "0        1    bob  Nice first post! 2025-10-16 06:07:14.171\n",
       "1        1  carol    Welcome Alice! 2025-10-16 06:07:14.171"
      ],
      "text/html": [
       "<div>\n",
       "<style scoped>\n",
       "    .dataframe tbody tr th:only-of-type {\n",
       "        vertical-align: middle;\n",
       "    }\n",
       "\n",
       "    .dataframe tbody tr th {\n",
       "        vertical-align: top;\n",
       "    }\n",
       "\n",
       "    .dataframe thead th {\n",
       "        text-align: right;\n",
       "    }\n",
       "</style>\n",
       "<table border=\"1\" class=\"dataframe\">\n",
       "  <thead>\n",
       "    <tr style=\"text-align: right;\">\n",
       "      <th></th>\n",
       "      <th>post_id</th>\n",
       "      <th>author</th>\n",
       "      <th>text</th>\n",
       "      <th>created_at</th>\n",
       "    </tr>\n",
       "  </thead>\n",
       "  <tbody>\n",
       "    <tr>\n",
       "      <th>0</th>\n",
       "      <td>1</td>\n",
       "      <td>bob</td>\n",
       "      <td>Nice first post!</td>\n",
       "      <td>2025-10-16 06:07:14.171</td>\n",
       "    </tr>\n",
       "    <tr>\n",
       "      <th>1</th>\n",
       "      <td>1</td>\n",
       "      <td>carol</td>\n",
       "      <td>Welcome Alice!</td>\n",
       "      <td>2025-10-16 06:07:14.171</td>\n",
       "    </tr>\n",
       "  </tbody>\n",
       "</table>\n",
       "</div>"
      ]
     },
     "execution_count": 49,
     "metadata": {},
     "output_type": "execute_result"
    }
   ],
   "execution_count": 49
  },
  {
   "cell_type": "markdown",
   "id": "3b0b41f8",
   "metadata": {},
   "source": [
    "## Neo4j - relationships"
   ]
  },
  {
   "cell_type": "code",
   "id": "4a228430",
   "metadata": {
    "ExecuteTime": {
     "end_time": "2025-10-16T06:17:49.050685Z",
     "start_time": "2025-10-16T06:17:48.789537Z"
    }
   },
   "source": [
    "from neo4j import GraphDatabase\n",
    "\n",
    "driver = GraphDatabase.driver(APP_NEO4J_URI_HTTP, auth=(APP_NEO4J_USER, APP_NEO4J_PASSWORD))\n",
    "\n",
    "def run_cypher(query, params=None):\n",
    "    with driver.session() as session:\n",
    "        return list(session.run(query, params or {}))\n",
    "\n",
    "# Constraints and sample data\n",
    "run_cypher(\"CREATE CONSTRAINT IF NOT EXISTS FOR (u:User) REQUIRE u.username IS UNIQUE\")\n",
    "run_cypher(\"UNWIND $users AS u MERGE (:User {username: u})\", {\"users\": [\"alice\", \"bob\", \"carol\"]})\n",
    "run_cypher(\"MATCH (a:User {username:'alice'}), (b:User {username:'bob'}) MERGE (a)-[:FOLLOWS]->(b)\")\n",
    "run_cypher(\"MATCH (b:User {username:'bob'}), (c:User {username:'carol'}) MERGE (b)-[:FOLLOWS]->(c)\")\n",
    "run_cypher(\"MATCH (a:User {username:'alice'}), (c:User {username:'carol'}) MERGE (a)-[:FOLLOWS]->(c)\")\n",
    "\n",
    "# Likes - pretend likes map to post ids from Postgres\n",
    "run_cypher(\"\"\"MERGE (p1:Post {id: 1})\n",
    "MERGE (p2:Post {id: 2})\n",
    "MERGE (p3:Post {id: 3})\n",
    "MERGE (p4:Post {id: 4})\n",
    "WITH p1,p2,p3,p4\n",
    "MATCH (a:User {username:'alice'}), (b:User {username:'bob'}), (c:User {username:'carol'})\n",
    "MERGE (b)-[:LIKES]->(p1)\n",
    "MERGE (c)-[:LIKES]->(p1)\n",
    "MERGE (a)-[:LIKES]->(p2)\n",
    "MERGE (a)-[:LIKES]->(p4);\n",
    "\"\"\")\n",
    "print(\"Graph prepared.\")\n"
   ],
   "outputs": [
    {
     "name": "stdout",
     "output_type": "stream",
     "text": [
      "Graph prepared.\n"
     ]
    }
   ],
   "execution_count": 50
  },
  {
   "cell_type": "markdown",
   "id": "d407fc85",
   "metadata": {},
   "source": [
    "### Query the follow graph"
   ]
  },
  {
   "cell_type": "code",
   "id": "0bc7f5a5",
   "metadata": {
    "ExecuteTime": {
     "end_time": "2025-10-16T06:17:49.079365Z",
     "start_time": "2025-10-16T06:17:49.071717Z"
    }
   },
   "source": [
    "rows = run_cypher(\"MATCH (u:User)-[:FOLLOWS]->(v:User) RETURN u.username AS follower, v.username AS followed ORDER BY follower, followed\")\n",
    "pd.DataFrame([dict(r) for r in rows])\n"
   ],
   "outputs": [
    {
     "data": {
      "text/plain": [
       "  follower followed\n",
       "0    alice      bob\n",
       "1    alice    carol\n",
       "2      bob    carol"
      ],
      "text/html": [
       "<div>\n",
       "<style scoped>\n",
       "    .dataframe tbody tr th:only-of-type {\n",
       "        vertical-align: middle;\n",
       "    }\n",
       "\n",
       "    .dataframe tbody tr th {\n",
       "        vertical-align: top;\n",
       "    }\n",
       "\n",
       "    .dataframe thead th {\n",
       "        text-align: right;\n",
       "    }\n",
       "</style>\n",
       "<table border=\"1\" class=\"dataframe\">\n",
       "  <thead>\n",
       "    <tr style=\"text-align: right;\">\n",
       "      <th></th>\n",
       "      <th>follower</th>\n",
       "      <th>followed</th>\n",
       "    </tr>\n",
       "  </thead>\n",
       "  <tbody>\n",
       "    <tr>\n",
       "      <th>0</th>\n",
       "      <td>alice</td>\n",
       "      <td>bob</td>\n",
       "    </tr>\n",
       "    <tr>\n",
       "      <th>1</th>\n",
       "      <td>alice</td>\n",
       "      <td>carol</td>\n",
       "    </tr>\n",
       "    <tr>\n",
       "      <th>2</th>\n",
       "      <td>bob</td>\n",
       "      <td>carol</td>\n",
       "    </tr>\n",
       "  </tbody>\n",
       "</table>\n",
       "</div>"
      ]
     },
     "execution_count": 51,
     "metadata": {},
     "output_type": "execute_result"
    }
   ],
   "execution_count": 51
  },
  {
   "cell_type": "markdown",
   "id": "2bd048f5",
   "metadata": {},
   "source": [
    "## Cross-database example idea"
   ]
  },
  {
   "cell_type": "code",
   "id": "c19f2e63",
   "metadata": {
    "ExecuteTime": {
     "end_time": "2025-10-16T06:17:49.124521Z",
     "start_time": "2025-10-16T06:17:49.117905Z"
    }
   },
   "source": [
    "# Example: For each Postgres post, attach MongoDB comment count\n",
    "posts = pd.read_sql(\"SELECT id, body FROM posts ORDER BY id\", conn)\n",
    "comment_counts = {doc[\"post_id\"]: doc[\"count\"] for doc in comments.aggregate([{\"$group\": {\"_id\": \"$post_id\", \"count\": {\"$sum\": 1}}}, {\"$project\": {\"_id\": 0, \"post_id\": \"$_id\", \"count\": 1}}])}\n",
    "posts[\"comment_count\"] = posts[\"id\"].map(comment_counts).fillna(0).astype(int)\n",
    "posts\n"
   ],
   "outputs": [
    {
     "name": "stderr",
     "output_type": "stream",
     "text": [
      "/var/folders/d3/4qjhzn1n1zb9shbj0sqx9g4h0000gn/T/ipykernel_1850/2275588064.py:2: UserWarning: pandas only supports SQLAlchemy connectable (engine/connection) or database string URI or sqlite3 DBAPI2 connection. Other DBAPI2 objects are not tested. Please consider using SQLAlchemy.\n",
      "  posts = pd.read_sql(\"SELECT id, body FROM posts ORDER BY id\", conn)\n"
     ]
    },
    {
     "data": {
      "text/plain": [
       "   id                        body  comment_count\n",
       "0   1      Hello world from Alice              2\n",
       "1   2  Bob here, nice to meet you              1\n",
       "2   3       Another post by Alice              0\n",
       "3   4           Carol checking in              0"
      ],
      "text/html": [
       "<div>\n",
       "<style scoped>\n",
       "    .dataframe tbody tr th:only-of-type {\n",
       "        vertical-align: middle;\n",
       "    }\n",
       "\n",
       "    .dataframe tbody tr th {\n",
       "        vertical-align: top;\n",
       "    }\n",
       "\n",
       "    .dataframe thead th {\n",
       "        text-align: right;\n",
       "    }\n",
       "</style>\n",
       "<table border=\"1\" class=\"dataframe\">\n",
       "  <thead>\n",
       "    <tr style=\"text-align: right;\">\n",
       "      <th></th>\n",
       "      <th>id</th>\n",
       "      <th>body</th>\n",
       "      <th>comment_count</th>\n",
       "    </tr>\n",
       "  </thead>\n",
       "  <tbody>\n",
       "    <tr>\n",
       "      <th>0</th>\n",
       "      <td>1</td>\n",
       "      <td>Hello world from Alice</td>\n",
       "      <td>2</td>\n",
       "    </tr>\n",
       "    <tr>\n",
       "      <th>1</th>\n",
       "      <td>2</td>\n",
       "      <td>Bob here, nice to meet you</td>\n",
       "      <td>1</td>\n",
       "    </tr>\n",
       "    <tr>\n",
       "      <th>2</th>\n",
       "      <td>3</td>\n",
       "      <td>Another post by Alice</td>\n",
       "      <td>0</td>\n",
       "    </tr>\n",
       "    <tr>\n",
       "      <th>3</th>\n",
       "      <td>4</td>\n",
       "      <td>Carol checking in</td>\n",
       "      <td>0</td>\n",
       "    </tr>\n",
       "  </tbody>\n",
       "</table>\n",
       "</div>"
      ]
     },
     "execution_count": 52,
     "metadata": {},
     "output_type": "execute_result"
    }
   ],
   "execution_count": 52
  }
 ],
 "metadata": {
  "kernelspec": {
   "display_name": "Python 3 (ipykernel)",
   "language": "python",
   "name": "python3"
  },
  "language_info": {
   "codemirror_mode": {
    "name": "ipython",
    "version": 3
   },
   "file_extension": ".py",
   "mimetype": "text/x-python",
   "name": "python",
   "nbconvert_exporter": "python",
   "pygments_lexer": "ipython3",
   "version": "3.11.6"
  }
 },
 "nbformat": 4,
 "nbformat_minor": 5
}
