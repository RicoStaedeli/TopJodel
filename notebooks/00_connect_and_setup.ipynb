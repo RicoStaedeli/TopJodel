{
 "cells": [
  {
   "cell_type": "markdown",
   "id": "c7870461",
   "metadata": {},
   "source": [
    "# Mini Social - Setup and Queries\n",
    "\n",
    "This notebook connects to PostgreSQL, MongoDB, and Neo4j, then walks you through creating a tiny social media data model and running a few queries."
   ]
  },
  {
   "cell_type": "code",
   "id": "f538eac9",
   "metadata": {
    "ExecuteTime": {
     "end_time": "2025-10-15T09:55:04.877788Z",
     "start_time": "2025-10-15T09:55:04.871546Z"
    }
   },
   "source": [
    "import os\n",
    "from dotenv import load_dotenv\n",
    "\n",
    "# Load environment file\n",
    "load_dotenv(dotenv_path=\"../.env\", override=True)\n",
    "\n",
    "# Gather variables (no defaults)\n",
    "PGHOST = os.getenv(\"PGHOST\")\n",
    "PGPORT = os.getenv(\"PGPORT\")\n",
    "PGUSER = os.getenv(\"POSTGRES_USER\")\n",
    "PGPASSWORD = os.getenv(\"POSTGRES_PASSWORD\")\n",
    "PGDATABASE = os.getenv(\"POSTGRES_DB\")\n",
    "\n",
    "MONGO_HOST = os.getenv(\"MONGO_HOST\")\n",
    "MONGO_PORT = os.getenv(\"MONGO_PORT\")\n",
    "MONGO_USER = os.getenv(\"MONGO_INITDB_ROOT_USERNAME\")\n",
    "MONGO_PASSWORD = os.getenv(\"MONGO_INITDB_ROOT_PASSWORD\")\n",
    "\n",
    "NEO4J_URI = os.getenv(\"APP_NEO4J_URI\")\n",
    "NEO4J_USER = os.getenv(\"APP_NEO4J_USER\")\n",
    "NEO4J_PASSWORD = os.getenv(\"APP_NEO4J_PASSWORD\")\n",
    "\n",
    "# Collect into a dict for nice reporting\n",
    "env_vars = {\n",
    "    \"PGHOST\": PGHOST,\n",
    "    \"PGPORT\": PGPORT,\n",
    "    \"POSTGRES_USER\": PGUSER,\n",
    "    \"POSTGRES_PASSWORD\": PGPASSWORD,\n",
    "    \"POSTGRES_DB\": PGDATABASE,\n",
    "    \"MONGO_HOST\": MONGO_HOST,\n",
    "    \"MONGO_PORT\": MONGO_PORT,\n",
    "    \"MONGO_INITDB_ROOT_USERNAME\": MONGO_USER,\n",
    "    \"MONGO_INITDB_ROOT_PASSWORD\": MONGO_PASSWORD,\n",
    "    \"APP_NEO4J_URI\": NEO4J_URI,\n",
    "    \"APP_NEO4J_USER\": NEO4J_USER,\n",
    "    \"APP_NEO4J_PASSWORD\": NEO4J_PASSWORD,\n",
    "}\n",
    "\n",
    "# Print results and highlight errors\n",
    "print(\"\\n--- Environment Variable Check ---\")\n",
    "for key, value in env_vars.items():\n",
    "    if value in (None, \"\"):\n",
    "        print(f\"❌ ERROR: {key} is not set or empty\")\n",
    "    else:\n",
    "        print(f\"✅ {key} = {value}\")\n"
   ],
   "outputs": [
    {
     "name": "stdout",
     "output_type": "stream",
     "text": [
      "\n",
      "--- Environment Variable Check ---\n",
      "✅ PGHOST = postgres\n",
      "✅ PGPORT = 55433\n",
      "✅ POSTGRES_USER = app\n",
      "✅ POSTGRES_PASSWORD = app_pw1234\n",
      "✅ POSTGRES_DB = socialdb\n",
      "✅ MONGO_HOST = mongo\n",
      "✅ MONGO_PORT = 27017\n",
      "✅ MONGO_INITDB_ROOT_USERNAME = app\n",
      "✅ MONGO_INITDB_ROOT_PASSWORD = app_pw1234\n",
      "✅ APP_NEO4J_URI = bolt://neo4j:7687\n",
      "✅ APP_NEO4J_USER = neo4j\n",
      "✅ APP_NEO4J_PASSWORD = app_pw1234\n"
     ]
    }
   ],
   "execution_count": 29
  },
  {
   "cell_type": "markdown",
   "id": "7f1b7864",
   "metadata": {},
   "source": [
    "## PostgreSQL - create tables"
   ]
  },
  {
   "cell_type": "code",
   "id": "e23ec41797f9fe21",
   "metadata": {
    "ExecuteTime": {
     "end_time": "2025-10-15T09:55:21.555964Z",
     "start_time": "2025-10-15T09:55:21.538674Z"
    }
   },
   "source": [
    "import psycopg2\n",
    "from psycopg2.extras import execute_values\n",
    "\n",
    "conn = psycopg2.connect(\n",
    "    host=\"localhost\", port=PGPORT, user=PGUSER, password=PGPASSWORD, dbname=PGDATABASE\n",
    ")\n",
    "print(conn)\n",
    "conn.autocommit = True\n",
    "cur = conn.cursor()\n",
    "\n",
    "# Create tables\n",
    "cur.execute(\"\"\"CREATE TABLE IF NOT EXISTS users (\n",
    "  id SERIAL PRIMARY KEY,\n",
    "  username TEXT UNIQUE NOT NULL,\n",
    "  full_name TEXT,\n",
    "  created_at TIMESTAMPTZ DEFAULT NOW()\n",
    ");\n",
    "\"\"\")\n",
    "\n",
    "cur.execute(\"\"\"CREATE TABLE IF NOT EXISTS posts (\n",
    "  id SERIAL PRIMARY KEY,\n",
    "  user_id INTEGER NOT NULL REFERENCES users(id) ON DELETE CASCADE,\n",
    "  body TEXT NOT NULL,\n",
    "  created_at TIMESTAMPTZ DEFAULT NOW()\n",
    ");\n",
    "\"\"\")\n",
    "\n",
    "print(\"Tables created.\")"
   ],
   "outputs": [
    {
     "name": "stdout",
     "output_type": "stream",
     "text": [
      "<connection object at 0x10b193b50; dsn: 'user=app password=xxx dbname=socialdb host=localhost port=55433', closed: 0>\n",
      "Tables created.\n"
     ]
    }
   ],
   "execution_count": 31
  },
  {
   "cell_type": "markdown",
   "id": "2def1697",
   "metadata": {},
   "source": [
    "### Insert sample users and posts"
   ]
  },
  {
   "cell_type": "code",
   "id": "d1af0e6c",
   "metadata": {
    "ExecuteTime": {
     "end_time": "2025-10-15T10:03:53.316328Z",
     "start_time": "2025-10-15T10:03:53.301269Z"
    }
   },
   "source": [
    "# Insert sample data only if empty\n",
    "cur.execute(\"SELECT COUNT(*) FROM users;\")\n",
    "count_users = cur.fetchone()[0]\n",
    "if count_users == 0:\n",
    "    users = [(\"alice\", \"Alice Example\"), (\"bob\", \"Bob Sample\"), (\"carol\", \"Carol Demo\")]\n",
    "    execute_values(cur, \"INSERT INTO users (username, full_name) VALUES %s ON CONFLICT DO NOTHING;\", users)\n",
    "\n",
    "cur.execute(\"SELECT COUNT(*) FROM posts;\")\n",
    "count_posts = cur.fetchone()[0]\n",
    "if count_posts == 0:\n",
    "    posts = [\n",
    "        (1, \"Hello world from Alice\"),\n",
    "        (2, \"Bob here, nice to meet you\"),\n",
    "        (1, \"Another post by Alice\"),\n",
    "        (3, \"Carol checking in\"),\n",
    "    ]\n",
    "    execute_values(cur, \"INSERT INTO posts (user_id, body) VALUES %s;\", posts)\n",
    "\n",
    "print(\"Sample data present.\")\n"
   ],
   "outputs": [
    {
     "name": "stdout",
     "output_type": "stream",
     "text": [
      "Sample data present.\n"
     ]
    }
   ],
   "execution_count": 32
  },
  {
   "cell_type": "markdown",
   "id": "f9ae8d91",
   "metadata": {},
   "source": [
    "### Query posts with users"
   ]
  },
  {
   "cell_type": "code",
   "id": "53592693",
   "metadata": {
    "ExecuteTime": {
     "end_time": "2025-10-15T10:03:56.416516Z",
     "start_time": "2025-10-15T10:03:56.397367Z"
    }
   },
   "source": [
    "import pandas as pd\n",
    "df = pd.read_sql(\"SELECT p.id, u.username, p.body, p.created_at FROM posts p JOIN users u ON p.user_id=u.id ORDER BY p.id;\", conn)\n",
    "df\n"
   ],
   "outputs": [
    {
     "name": "stderr",
     "output_type": "stream",
     "text": [
      "/var/folders/d3/4qjhzn1n1zb9shbj0sqx9g4h0000gn/T/ipykernel_8026/2658705498.py:2: UserWarning: pandas only supports SQLAlchemy connectable (engine/connection) or database string URI or sqlite3 DBAPI2 connection. Other DBAPI2 objects are not tested. Please consider using SQLAlchemy.\n",
      "  df = pd.read_sql(\"SELECT p.id, u.username, p.body, p.created_at FROM posts p JOIN users u ON p.user_id=u.id ORDER BY p.id;\", conn)\n"
     ]
    },
    {
     "data": {
      "text/plain": [
       "   id username                        body                       created_at\n",
       "0   1    alice      Hello world from Alice 2025-10-15 10:03:53.313112+00:00\n",
       "1   2      bob  Bob here, nice to meet you 2025-10-15 10:03:53.313112+00:00\n",
       "2   3    alice       Another post by Alice 2025-10-15 10:03:53.313112+00:00\n",
       "3   4    carol           Carol checking in 2025-10-15 10:03:53.313112+00:00"
      ],
      "text/html": [
       "<div>\n",
       "<style scoped>\n",
       "    .dataframe tbody tr th:only-of-type {\n",
       "        vertical-align: middle;\n",
       "    }\n",
       "\n",
       "    .dataframe tbody tr th {\n",
       "        vertical-align: top;\n",
       "    }\n",
       "\n",
       "    .dataframe thead th {\n",
       "        text-align: right;\n",
       "    }\n",
       "</style>\n",
       "<table border=\"1\" class=\"dataframe\">\n",
       "  <thead>\n",
       "    <tr style=\"text-align: right;\">\n",
       "      <th></th>\n",
       "      <th>id</th>\n",
       "      <th>username</th>\n",
       "      <th>body</th>\n",
       "      <th>created_at</th>\n",
       "    </tr>\n",
       "  </thead>\n",
       "  <tbody>\n",
       "    <tr>\n",
       "      <th>0</th>\n",
       "      <td>1</td>\n",
       "      <td>alice</td>\n",
       "      <td>Hello world from Alice</td>\n",
       "      <td>2025-10-15 10:03:53.313112+00:00</td>\n",
       "    </tr>\n",
       "    <tr>\n",
       "      <th>1</th>\n",
       "      <td>2</td>\n",
       "      <td>bob</td>\n",
       "      <td>Bob here, nice to meet you</td>\n",
       "      <td>2025-10-15 10:03:53.313112+00:00</td>\n",
       "    </tr>\n",
       "    <tr>\n",
       "      <th>2</th>\n",
       "      <td>3</td>\n",
       "      <td>alice</td>\n",
       "      <td>Another post by Alice</td>\n",
       "      <td>2025-10-15 10:03:53.313112+00:00</td>\n",
       "    </tr>\n",
       "    <tr>\n",
       "      <th>3</th>\n",
       "      <td>4</td>\n",
       "      <td>carol</td>\n",
       "      <td>Carol checking in</td>\n",
       "      <td>2025-10-15 10:03:53.313112+00:00</td>\n",
       "    </tr>\n",
       "  </tbody>\n",
       "</table>\n",
       "</div>"
      ]
     },
     "execution_count": 33,
     "metadata": {},
     "output_type": "execute_result"
    }
   ],
   "execution_count": 33
  },
  {
   "cell_type": "markdown",
   "id": "a6ae75c9",
   "metadata": {},
   "source": [
    "## MongoDB - comments collection"
   ]
  },
  {
   "cell_type": "code",
   "id": "affc06ec",
   "metadata": {
    "ExecuteTime": {
     "end_time": "2025-10-15T10:05:24.433916Z",
     "start_time": "2025-10-15T10:04:53.423760Z"
    }
   },
   "source": [
    "from pymongo import MongoClient\n",
    "\n",
    "mongo_uri = f\"mongodb://{MONGO_USER}:{MONGO_PASSWORD}@{MONGO_HOST}:{MONGO_PORT}/?authSource=admin\"\n",
    "mc = MongoClient(mongo_uri)\n",
    "mdb = mc[\"socialdb\"]\n",
    "comments = mdb[\"comments\"]\n",
    "\n",
    "# Create sample comments if empty\n",
    "if comments.count_documents({}) == 0:\n",
    "    comments.insert_many([\n",
    "        {\"post_id\": 1, \"author\": \"bob\", \"text\": \"Nice first post!\", \"created_at\": pd.Timestamp.utcnow()},\n",
    "        {\"post_id\": 1, \"author\": \"carol\", \"text\": \"Welcome Alice!\", \"created_at\": pd.Timestamp.utcnow()},\n",
    "        {\"post_id\": 2, \"author\": \"alice\", \"text\": \"Hi Bob!\", \"created_at\": pd.Timestamp.utcnow()},\n",
    "    ])\n",
    "list(comments.find().limit(5))\n"
   ],
   "outputs": [
    {
     "ename": "ServerSelectionTimeoutError",
     "evalue": "mongo:27017: [Errno 8] nodename nor servname provided, or not known (configured timeouts: socketTimeoutMS: 20000.0ms, connectTimeoutMS: 20000.0ms), Timeout: 30s, Topology Description: <TopologyDescription id: 68ef71c6fe665bad9f40aafe, topology_type: Unknown, servers: [<ServerDescription ('mongo', 27017) server_type: Unknown, rtt: None, error=AutoReconnect('mongo:27017: [Errno 8] nodename nor servname provided, or not known (configured timeouts: socketTimeoutMS: 20000.0ms, connectTimeoutMS: 20000.0ms)')>]>",
     "output_type": "error",
     "traceback": [
      "\u001B[31m---------------------------------------------------------------------------\u001B[39m",
      "\u001B[31mServerSelectionTimeoutError\u001B[39m               Traceback (most recent call last)",
      "\u001B[36mCell\u001B[39m\u001B[36m \u001B[39m\u001B[32mIn[35]\u001B[39m\u001B[32m, line 9\u001B[39m\n\u001B[32m      6\u001B[39m comments = mdb[\u001B[33m\"\u001B[39m\u001B[33mcomments\u001B[39m\u001B[33m\"\u001B[39m]\n\u001B[32m      8\u001B[39m \u001B[38;5;66;03m# Create sample comments if empty\u001B[39;00m\n\u001B[32m----> \u001B[39m\u001B[32m9\u001B[39m \u001B[38;5;28;01mif\u001B[39;00m \u001B[43mcomments\u001B[49m\u001B[43m.\u001B[49m\u001B[43mcount_documents\u001B[49m\u001B[43m(\u001B[49m\u001B[43m{\u001B[49m\u001B[43m}\u001B[49m\u001B[43m)\u001B[49m == \u001B[32m0\u001B[39m:\n\u001B[32m     10\u001B[39m     comments.insert_many([\n\u001B[32m     11\u001B[39m         {\u001B[33m\"\u001B[39m\u001B[33mpost_id\u001B[39m\u001B[33m\"\u001B[39m: \u001B[32m1\u001B[39m, \u001B[33m\"\u001B[39m\u001B[33mauthor\u001B[39m\u001B[33m\"\u001B[39m: \u001B[33m\"\u001B[39m\u001B[33mbob\u001B[39m\u001B[33m\"\u001B[39m, \u001B[33m\"\u001B[39m\u001B[33mtext\u001B[39m\u001B[33m\"\u001B[39m: \u001B[33m\"\u001B[39m\u001B[33mNice first post!\u001B[39m\u001B[33m\"\u001B[39m, \u001B[33m\"\u001B[39m\u001B[33mcreated_at\u001B[39m\u001B[33m\"\u001B[39m: pd.Timestamp.utcnow()},\n\u001B[32m     12\u001B[39m         {\u001B[33m\"\u001B[39m\u001B[33mpost_id\u001B[39m\u001B[33m\"\u001B[39m: \u001B[32m1\u001B[39m, \u001B[33m\"\u001B[39m\u001B[33mauthor\u001B[39m\u001B[33m\"\u001B[39m: \u001B[33m\"\u001B[39m\u001B[33mcarol\u001B[39m\u001B[33m\"\u001B[39m, \u001B[33m\"\u001B[39m\u001B[33mtext\u001B[39m\u001B[33m\"\u001B[39m: \u001B[33m\"\u001B[39m\u001B[33mWelcome Alice!\u001B[39m\u001B[33m\"\u001B[39m, \u001B[33m\"\u001B[39m\u001B[33mcreated_at\u001B[39m\u001B[33m\"\u001B[39m: pd.Timestamp.utcnow()},\n\u001B[32m     13\u001B[39m         {\u001B[33m\"\u001B[39m\u001B[33mpost_id\u001B[39m\u001B[33m\"\u001B[39m: \u001B[32m2\u001B[39m, \u001B[33m\"\u001B[39m\u001B[33mauthor\u001B[39m\u001B[33m\"\u001B[39m: \u001B[33m\"\u001B[39m\u001B[33malice\u001B[39m\u001B[33m\"\u001B[39m, \u001B[33m\"\u001B[39m\u001B[33mtext\u001B[39m\u001B[33m\"\u001B[39m: \u001B[33m\"\u001B[39m\u001B[33mHi Bob!\u001B[39m\u001B[33m\"\u001B[39m, \u001B[33m\"\u001B[39m\u001B[33mcreated_at\u001B[39m\u001B[33m\"\u001B[39m: pd.Timestamp.utcnow()},\n\u001B[32m     14\u001B[39m     ])\n\u001B[32m     15\u001B[39m \u001B[38;5;28mlist\u001B[39m(comments.find().limit(\u001B[32m5\u001B[39m))\n",
      "\u001B[36mFile \u001B[39m\u001B[32m~/Documents/HSG/db_project/topjodel/.venv/lib/python3.12/site-packages/pymongo/synchronous/collection.py:2163\u001B[39m, in \u001B[36mCollection.count_documents\u001B[39m\u001B[34m(self, filter, session, comment, **kwargs)\u001B[39m\n\u001B[32m   2160\u001B[39m         \u001B[38;5;28;01mreturn\u001B[39;00m \u001B[32m0\u001B[39m\n\u001B[32m   2161\u001B[39m     \u001B[38;5;28;01mreturn\u001B[39;00m result[\u001B[33m\"\u001B[39m\u001B[33mn\u001B[39m\u001B[33m\"\u001B[39m]\n\u001B[32m-> \u001B[39m\u001B[32m2163\u001B[39m \u001B[38;5;28;01mreturn\u001B[39;00m \u001B[38;5;28;43mself\u001B[39;49m\u001B[43m.\u001B[49m\u001B[43m_retryable_non_cursor_read\u001B[49m\u001B[43m(\u001B[49m\u001B[43m_cmd\u001B[49m\u001B[43m,\u001B[49m\u001B[43m \u001B[49m\u001B[43msession\u001B[49m\u001B[43m,\u001B[49m\u001B[43m \u001B[49m\u001B[43m_Op\u001B[49m\u001B[43m.\u001B[49m\u001B[43mCOUNT\u001B[49m\u001B[43m)\u001B[49m\n",
      "\u001B[36mFile \u001B[39m\u001B[32m~/Documents/HSG/db_project/topjodel/.venv/lib/python3.12/site-packages/pymongo/synchronous/collection.py:2177\u001B[39m, in \u001B[36mCollection._retryable_non_cursor_read\u001B[39m\u001B[34m(self, func, session, operation)\u001B[39m\n\u001B[32m   2175\u001B[39m client = \u001B[38;5;28mself\u001B[39m._database.client\n\u001B[32m   2176\u001B[39m \u001B[38;5;28;01mwith\u001B[39;00m client._tmp_session(session) \u001B[38;5;28;01mas\u001B[39;00m s:\n\u001B[32m-> \u001B[39m\u001B[32m2177\u001B[39m     \u001B[38;5;28;01mreturn\u001B[39;00m \u001B[43mclient\u001B[49m\u001B[43m.\u001B[49m\u001B[43m_retryable_read\u001B[49m\u001B[43m(\u001B[49m\u001B[43mfunc\u001B[49m\u001B[43m,\u001B[49m\u001B[43m \u001B[49m\u001B[38;5;28;43mself\u001B[39;49m\u001B[43m.\u001B[49m\u001B[43m_read_preference_for\u001B[49m\u001B[43m(\u001B[49m\u001B[43ms\u001B[49m\u001B[43m)\u001B[49m\u001B[43m,\u001B[49m\u001B[43m \u001B[49m\u001B[43ms\u001B[49m\u001B[43m,\u001B[49m\u001B[43m \u001B[49m\u001B[43moperation\u001B[49m\u001B[43m)\u001B[49m\n",
      "\u001B[36mFile \u001B[39m\u001B[32m~/Documents/HSG/db_project/topjodel/.venv/lib/python3.12/site-packages/pymongo/synchronous/mongo_client.py:2047\u001B[39m, in \u001B[36mMongoClient._retryable_read\u001B[39m\u001B[34m(self, func, read_pref, session, operation, address, retryable, operation_id)\u001B[39m\n\u001B[32m   2042\u001B[39m \u001B[38;5;66;03m# Ensure that the client supports retrying on reads and there is no session in\u001B[39;00m\n\u001B[32m   2043\u001B[39m \u001B[38;5;66;03m# transaction, otherwise, we will not support retry behavior for this call.\u001B[39;00m\n\u001B[32m   2044\u001B[39m retryable = \u001B[38;5;28mbool\u001B[39m(\n\u001B[32m   2045\u001B[39m     retryable \u001B[38;5;129;01mand\u001B[39;00m \u001B[38;5;28mself\u001B[39m.options.retry_reads \u001B[38;5;129;01mand\u001B[39;00m \u001B[38;5;129;01mnot\u001B[39;00m (session \u001B[38;5;129;01mand\u001B[39;00m session.in_transaction)\n\u001B[32m   2046\u001B[39m )\n\u001B[32m-> \u001B[39m\u001B[32m2047\u001B[39m \u001B[38;5;28;01mreturn\u001B[39;00m \u001B[38;5;28;43mself\u001B[39;49m\u001B[43m.\u001B[49m\u001B[43m_retry_internal\u001B[49m\u001B[43m(\u001B[49m\n\u001B[32m   2048\u001B[39m \u001B[43m    \u001B[49m\u001B[43mfunc\u001B[49m\u001B[43m,\u001B[49m\n\u001B[32m   2049\u001B[39m \u001B[43m    \u001B[49m\u001B[43msession\u001B[49m\u001B[43m,\u001B[49m\n\u001B[32m   2050\u001B[39m \u001B[43m    \u001B[49m\u001B[38;5;28;43;01mNone\u001B[39;49;00m\u001B[43m,\u001B[49m\n\u001B[32m   2051\u001B[39m \u001B[43m    \u001B[49m\u001B[43moperation\u001B[49m\u001B[43m,\u001B[49m\n\u001B[32m   2052\u001B[39m \u001B[43m    \u001B[49m\u001B[43mis_read\u001B[49m\u001B[43m=\u001B[49m\u001B[38;5;28;43;01mTrue\u001B[39;49;00m\u001B[43m,\u001B[49m\n\u001B[32m   2053\u001B[39m \u001B[43m    \u001B[49m\u001B[43maddress\u001B[49m\u001B[43m=\u001B[49m\u001B[43maddress\u001B[49m\u001B[43m,\u001B[49m\n\u001B[32m   2054\u001B[39m \u001B[43m    \u001B[49m\u001B[43mread_pref\u001B[49m\u001B[43m=\u001B[49m\u001B[43mread_pref\u001B[49m\u001B[43m,\u001B[49m\n\u001B[32m   2055\u001B[39m \u001B[43m    \u001B[49m\u001B[43mretryable\u001B[49m\u001B[43m=\u001B[49m\u001B[43mretryable\u001B[49m\u001B[43m,\u001B[49m\n\u001B[32m   2056\u001B[39m \u001B[43m    \u001B[49m\u001B[43moperation_id\u001B[49m\u001B[43m=\u001B[49m\u001B[43moperation_id\u001B[49m\u001B[43m,\u001B[49m\n\u001B[32m   2057\u001B[39m \u001B[43m\u001B[49m\u001B[43m)\u001B[49m\n",
      "\u001B[36mFile \u001B[39m\u001B[32m~/Documents/HSG/db_project/topjodel/.venv/lib/python3.12/site-packages/pymongo/_csot.py:125\u001B[39m, in \u001B[36mapply.<locals>.csot_wrapper\u001B[39m\u001B[34m(self, *args, **kwargs)\u001B[39m\n\u001B[32m    123\u001B[39m         \u001B[38;5;28;01mwith\u001B[39;00m _TimeoutContext(timeout):\n\u001B[32m    124\u001B[39m             \u001B[38;5;28;01mreturn\u001B[39;00m func(\u001B[38;5;28mself\u001B[39m, *args, **kwargs)\n\u001B[32m--> \u001B[39m\u001B[32m125\u001B[39m \u001B[38;5;28;01mreturn\u001B[39;00m \u001B[43mfunc\u001B[49m\u001B[43m(\u001B[49m\u001B[38;5;28;43mself\u001B[39;49m\u001B[43m,\u001B[49m\u001B[43m \u001B[49m\u001B[43m*\u001B[49m\u001B[43margs\u001B[49m\u001B[43m,\u001B[49m\u001B[43m \u001B[49m\u001B[43m*\u001B[49m\u001B[43m*\u001B[49m\u001B[43mkwargs\u001B[49m\u001B[43m)\u001B[49m\n",
      "\u001B[36mFile \u001B[39m\u001B[32m~/Documents/HSG/db_project/topjodel/.venv/lib/python3.12/site-packages/pymongo/synchronous/mongo_client.py:2014\u001B[39m, in \u001B[36mMongoClient._retry_internal\u001B[39m\u001B[34m(self, func, session, bulk, operation, is_read, address, read_pref, retryable, operation_id)\u001B[39m\n\u001B[32m   1977\u001B[39m \u001B[38;5;129m@_csot\u001B[39m.apply\n\u001B[32m   1978\u001B[39m \u001B[38;5;28;01mdef\u001B[39;00m\u001B[38;5;250m \u001B[39m\u001B[34m_retry_internal\u001B[39m(\n\u001B[32m   1979\u001B[39m     \u001B[38;5;28mself\u001B[39m,\n\u001B[32m   (...)\u001B[39m\u001B[32m   1988\u001B[39m     operation_id: Optional[\u001B[38;5;28mint\u001B[39m] = \u001B[38;5;28;01mNone\u001B[39;00m,\n\u001B[32m   1989\u001B[39m ) -> T:\n\u001B[32m   1990\u001B[39m \u001B[38;5;250m    \u001B[39m\u001B[33;03m\"\"\"Internal retryable helper for all client transactions.\u001B[39;00m\n\u001B[32m   1991\u001B[39m \n\u001B[32m   1992\u001B[39m \u001B[33;03m    :param func: Callback function we want to retry\u001B[39;00m\n\u001B[32m   (...)\u001B[39m\u001B[32m   2001\u001B[39m \u001B[33;03m    :return: Output of the calling func()\u001B[39;00m\n\u001B[32m   2002\u001B[39m \u001B[33;03m    \"\"\"\u001B[39;00m\n\u001B[32m   2003\u001B[39m     \u001B[38;5;28;01mreturn\u001B[39;00m \u001B[43m_ClientConnectionRetryable\u001B[49m\u001B[43m(\u001B[49m\n\u001B[32m   2004\u001B[39m \u001B[43m        \u001B[49m\u001B[43mmongo_client\u001B[49m\u001B[43m=\u001B[49m\u001B[38;5;28;43mself\u001B[39;49m\u001B[43m,\u001B[49m\n\u001B[32m   2005\u001B[39m \u001B[43m        \u001B[49m\u001B[43mfunc\u001B[49m\u001B[43m=\u001B[49m\u001B[43mfunc\u001B[49m\u001B[43m,\u001B[49m\n\u001B[32m   2006\u001B[39m \u001B[43m        \u001B[49m\u001B[43mbulk\u001B[49m\u001B[43m=\u001B[49m\u001B[43mbulk\u001B[49m\u001B[43m,\u001B[49m\n\u001B[32m   2007\u001B[39m \u001B[43m        \u001B[49m\u001B[43moperation\u001B[49m\u001B[43m=\u001B[49m\u001B[43moperation\u001B[49m\u001B[43m,\u001B[49m\n\u001B[32m   2008\u001B[39m \u001B[43m        \u001B[49m\u001B[43mis_read\u001B[49m\u001B[43m=\u001B[49m\u001B[43mis_read\u001B[49m\u001B[43m,\u001B[49m\n\u001B[32m   2009\u001B[39m \u001B[43m        \u001B[49m\u001B[43msession\u001B[49m\u001B[43m=\u001B[49m\u001B[43msession\u001B[49m\u001B[43m,\u001B[49m\n\u001B[32m   2010\u001B[39m \u001B[43m        \u001B[49m\u001B[43mread_pref\u001B[49m\u001B[43m=\u001B[49m\u001B[43mread_pref\u001B[49m\u001B[43m,\u001B[49m\n\u001B[32m   2011\u001B[39m \u001B[43m        \u001B[49m\u001B[43maddress\u001B[49m\u001B[43m=\u001B[49m\u001B[43maddress\u001B[49m\u001B[43m,\u001B[49m\n\u001B[32m   2012\u001B[39m \u001B[43m        \u001B[49m\u001B[43mretryable\u001B[49m\u001B[43m=\u001B[49m\u001B[43mretryable\u001B[49m\u001B[43m,\u001B[49m\n\u001B[32m   2013\u001B[39m \u001B[43m        \u001B[49m\u001B[43moperation_id\u001B[49m\u001B[43m=\u001B[49m\u001B[43moperation_id\u001B[49m\u001B[43m,\u001B[49m\n\u001B[32m-> \u001B[39m\u001B[32m2014\u001B[39m \u001B[43m    \u001B[49m\u001B[43m)\u001B[49m\u001B[43m.\u001B[49m\u001B[43mrun\u001B[49m\u001B[43m(\u001B[49m\u001B[43m)\u001B[49m\n",
      "\u001B[36mFile \u001B[39m\u001B[32m~/Documents/HSG/db_project/topjodel/.venv/lib/python3.12/site-packages/pymongo/synchronous/mongo_client.py:2765\u001B[39m, in \u001B[36m_ClientConnectionRetryable.run\u001B[39m\u001B[34m(self)\u001B[39m\n\u001B[32m   2763\u001B[39m \u001B[38;5;28mself\u001B[39m._check_last_error(check_csot=\u001B[38;5;28;01mTrue\u001B[39;00m)\n\u001B[32m   2764\u001B[39m \u001B[38;5;28;01mtry\u001B[39;00m:\n\u001B[32m-> \u001B[39m\u001B[32m2765\u001B[39m     \u001B[38;5;28;01mreturn\u001B[39;00m \u001B[38;5;28;43mself\u001B[39;49m\u001B[43m.\u001B[49m\u001B[43m_read\u001B[49m\u001B[43m(\u001B[49m\u001B[43m)\u001B[49m \u001B[38;5;28;01mif\u001B[39;00m \u001B[38;5;28mself\u001B[39m._is_read \u001B[38;5;28;01melse\u001B[39;00m \u001B[38;5;28mself\u001B[39m._write()\n\u001B[32m   2766\u001B[39m \u001B[38;5;28;01mexcept\u001B[39;00m ServerSelectionTimeoutError:\n\u001B[32m   2767\u001B[39m     \u001B[38;5;66;03m# The application may think the write was never attempted\u001B[39;00m\n\u001B[32m   2768\u001B[39m     \u001B[38;5;66;03m# if we raise ServerSelectionTimeoutError on the retry\u001B[39;00m\n\u001B[32m   2769\u001B[39m     \u001B[38;5;66;03m# attempt. Raise the original exception instead.\u001B[39;00m\n\u001B[32m   2770\u001B[39m     \u001B[38;5;28mself\u001B[39m._check_last_error()\n",
      "\u001B[36mFile \u001B[39m\u001B[32m~/Documents/HSG/db_project/topjodel/.venv/lib/python3.12/site-packages/pymongo/synchronous/mongo_client.py:2910\u001B[39m, in \u001B[36m_ClientConnectionRetryable._read\u001B[39m\u001B[34m(self)\u001B[39m\n\u001B[32m   2905\u001B[39m \u001B[38;5;28;01mdef\u001B[39;00m\u001B[38;5;250m \u001B[39m\u001B[34m_read\u001B[39m(\u001B[38;5;28mself\u001B[39m) -> T:\n\u001B[32m   2906\u001B[39m \u001B[38;5;250m    \u001B[39m\u001B[33;03m\"\"\"Wrapper method for read-type retryable client executions\u001B[39;00m\n\u001B[32m   2907\u001B[39m \n\u001B[32m   2908\u001B[39m \u001B[33;03m    :return: Output for func()'s call\u001B[39;00m\n\u001B[32m   2909\u001B[39m \u001B[33;03m    \"\"\"\u001B[39;00m\n\u001B[32m-> \u001B[39m\u001B[32m2910\u001B[39m     \u001B[38;5;28mself\u001B[39m._server = \u001B[38;5;28;43mself\u001B[39;49m\u001B[43m.\u001B[49m\u001B[43m_get_server\u001B[49m\u001B[43m(\u001B[49m\u001B[43m)\u001B[49m\n\u001B[32m   2911\u001B[39m     \u001B[38;5;28;01massert\u001B[39;00m \u001B[38;5;28mself\u001B[39m._read_pref \u001B[38;5;129;01mis\u001B[39;00m \u001B[38;5;129;01mnot\u001B[39;00m \u001B[38;5;28;01mNone\u001B[39;00m, \u001B[33m\"\u001B[39m\u001B[33mRead Preference required on read calls\u001B[39m\u001B[33m\"\u001B[39m\n\u001B[32m   2912\u001B[39m     \u001B[38;5;28;01mwith\u001B[39;00m \u001B[38;5;28mself\u001B[39m._client._conn_from_server(\u001B[38;5;28mself\u001B[39m._read_pref, \u001B[38;5;28mself\u001B[39m._server, \u001B[38;5;28mself\u001B[39m._session) \u001B[38;5;28;01mas\u001B[39;00m (\n\u001B[32m   2913\u001B[39m         conn,\n\u001B[32m   2914\u001B[39m         read_pref,\n\u001B[32m   2915\u001B[39m     ):\n",
      "\u001B[36mFile \u001B[39m\u001B[32m~/Documents/HSG/db_project/topjodel/.venv/lib/python3.12/site-packages/pymongo/synchronous/mongo_client.py:2858\u001B[39m, in \u001B[36m_ClientConnectionRetryable._get_server\u001B[39m\u001B[34m(self)\u001B[39m\n\u001B[32m   2853\u001B[39m \u001B[38;5;28;01mdef\u001B[39;00m\u001B[38;5;250m \u001B[39m\u001B[34m_get_server\u001B[39m(\u001B[38;5;28mself\u001B[39m) -> Server:\n\u001B[32m   2854\u001B[39m \u001B[38;5;250m    \u001B[39m\u001B[33;03m\"\"\"Retrieves a server object based on provided object context\u001B[39;00m\n\u001B[32m   2855\u001B[39m \n\u001B[32m   2856\u001B[39m \u001B[33;03m    :return: Abstraction to connect to server\u001B[39;00m\n\u001B[32m   2857\u001B[39m \u001B[33;03m    \"\"\"\u001B[39;00m\n\u001B[32m-> \u001B[39m\u001B[32m2858\u001B[39m     \u001B[38;5;28;01mreturn\u001B[39;00m \u001B[38;5;28;43mself\u001B[39;49m\u001B[43m.\u001B[49m\u001B[43m_client\u001B[49m\u001B[43m.\u001B[49m\u001B[43m_select_server\u001B[49m\u001B[43m(\u001B[49m\n\u001B[32m   2859\u001B[39m \u001B[43m        \u001B[49m\u001B[38;5;28;43mself\u001B[39;49m\u001B[43m.\u001B[49m\u001B[43m_server_selector\u001B[49m\u001B[43m,\u001B[49m\n\u001B[32m   2860\u001B[39m \u001B[43m        \u001B[49m\u001B[38;5;28;43mself\u001B[39;49m\u001B[43m.\u001B[49m\u001B[43m_session\u001B[49m\u001B[43m,\u001B[49m\n\u001B[32m   2861\u001B[39m \u001B[43m        \u001B[49m\u001B[38;5;28;43mself\u001B[39;49m\u001B[43m.\u001B[49m\u001B[43m_operation\u001B[49m\u001B[43m,\u001B[49m\n\u001B[32m   2862\u001B[39m \u001B[43m        \u001B[49m\u001B[43maddress\u001B[49m\u001B[43m=\u001B[49m\u001B[38;5;28;43mself\u001B[39;49m\u001B[43m.\u001B[49m\u001B[43m_address\u001B[49m\u001B[43m,\u001B[49m\n\u001B[32m   2863\u001B[39m \u001B[43m        \u001B[49m\u001B[43mdeprioritized_servers\u001B[49m\u001B[43m=\u001B[49m\u001B[38;5;28;43mself\u001B[39;49m\u001B[43m.\u001B[49m\u001B[43m_deprioritized_servers\u001B[49m\u001B[43m,\u001B[49m\n\u001B[32m   2864\u001B[39m \u001B[43m        \u001B[49m\u001B[43moperation_id\u001B[49m\u001B[43m=\u001B[49m\u001B[38;5;28;43mself\u001B[39;49m\u001B[43m.\u001B[49m\u001B[43m_operation_id\u001B[49m\u001B[43m,\u001B[49m\n\u001B[32m   2865\u001B[39m \u001B[43m    \u001B[49m\u001B[43m)\u001B[49m\n",
      "\u001B[36mFile \u001B[39m\u001B[32m~/Documents/HSG/db_project/topjodel/.venv/lib/python3.12/site-packages/pymongo/synchronous/mongo_client.py:1833\u001B[39m, in \u001B[36mMongoClient._select_server\u001B[39m\u001B[34m(self, server_selector, session, operation, address, deprioritized_servers, operation_id)\u001B[39m\n\u001B[32m   1831\u001B[39m             \u001B[38;5;28;01mraise\u001B[39;00m AutoReconnect(\u001B[33m\"\u001B[39m\u001B[33mserver \u001B[39m\u001B[38;5;132;01m%s\u001B[39;00m\u001B[33m:\u001B[39m\u001B[38;5;132;01m%s\u001B[39;00m\u001B[33m no longer available\u001B[39m\u001B[33m\"\u001B[39m % address)  \u001B[38;5;66;03m# noqa: UP031\u001B[39;00m\n\u001B[32m   1832\u001B[39m     \u001B[38;5;28;01melse\u001B[39;00m:\n\u001B[32m-> \u001B[39m\u001B[32m1833\u001B[39m         server = \u001B[43mtopology\u001B[49m\u001B[43m.\u001B[49m\u001B[43mselect_server\u001B[49m\u001B[43m(\u001B[49m\n\u001B[32m   1834\u001B[39m \u001B[43m            \u001B[49m\u001B[43mserver_selector\u001B[49m\u001B[43m,\u001B[49m\n\u001B[32m   1835\u001B[39m \u001B[43m            \u001B[49m\u001B[43moperation\u001B[49m\u001B[43m,\u001B[49m\n\u001B[32m   1836\u001B[39m \u001B[43m            \u001B[49m\u001B[43mdeprioritized_servers\u001B[49m\u001B[43m=\u001B[49m\u001B[43mdeprioritized_servers\u001B[49m\u001B[43m,\u001B[49m\n\u001B[32m   1837\u001B[39m \u001B[43m            \u001B[49m\u001B[43moperation_id\u001B[49m\u001B[43m=\u001B[49m\u001B[43moperation_id\u001B[49m\u001B[43m,\u001B[49m\n\u001B[32m   1838\u001B[39m \u001B[43m        \u001B[49m\u001B[43m)\u001B[49m\n\u001B[32m   1839\u001B[39m     \u001B[38;5;28;01mreturn\u001B[39;00m server\n\u001B[32m   1840\u001B[39m \u001B[38;5;28;01mexcept\u001B[39;00m PyMongoError \u001B[38;5;28;01mas\u001B[39;00m exc:\n\u001B[32m   1841\u001B[39m     \u001B[38;5;66;03m# Server selection errors in a transaction are transient.\u001B[39;00m\n",
      "\u001B[36mFile \u001B[39m\u001B[32m~/Documents/HSG/db_project/topjodel/.venv/lib/python3.12/site-packages/pymongo/synchronous/topology.py:409\u001B[39m, in \u001B[36mTopology.select_server\u001B[39m\u001B[34m(self, selector, operation, server_selection_timeout, address, deprioritized_servers, operation_id)\u001B[39m\n\u001B[32m    399\u001B[39m \u001B[38;5;28;01mdef\u001B[39;00m\u001B[38;5;250m \u001B[39m\u001B[34mselect_server\u001B[39m(\n\u001B[32m    400\u001B[39m     \u001B[38;5;28mself\u001B[39m,\n\u001B[32m    401\u001B[39m     selector: Callable[[Selection], Selection],\n\u001B[32m   (...)\u001B[39m\u001B[32m    406\u001B[39m     operation_id: Optional[\u001B[38;5;28mint\u001B[39m] = \u001B[38;5;28;01mNone\u001B[39;00m,\n\u001B[32m    407\u001B[39m ) -> Server:\n\u001B[32m    408\u001B[39m \u001B[38;5;250m    \u001B[39m\u001B[33;03m\"\"\"Like select_servers, but choose a random server if several match.\"\"\"\u001B[39;00m\n\u001B[32m--> \u001B[39m\u001B[32m409\u001B[39m     server = \u001B[38;5;28;43mself\u001B[39;49m\u001B[43m.\u001B[49m\u001B[43m_select_server\u001B[49m\u001B[43m(\u001B[49m\n\u001B[32m    410\u001B[39m \u001B[43m        \u001B[49m\u001B[43mselector\u001B[49m\u001B[43m,\u001B[49m\n\u001B[32m    411\u001B[39m \u001B[43m        \u001B[49m\u001B[43moperation\u001B[49m\u001B[43m,\u001B[49m\n\u001B[32m    412\u001B[39m \u001B[43m        \u001B[49m\u001B[43mserver_selection_timeout\u001B[49m\u001B[43m,\u001B[49m\n\u001B[32m    413\u001B[39m \u001B[43m        \u001B[49m\u001B[43maddress\u001B[49m\u001B[43m,\u001B[49m\n\u001B[32m    414\u001B[39m \u001B[43m        \u001B[49m\u001B[43mdeprioritized_servers\u001B[49m\u001B[43m,\u001B[49m\n\u001B[32m    415\u001B[39m \u001B[43m        \u001B[49m\u001B[43moperation_id\u001B[49m\u001B[43m=\u001B[49m\u001B[43moperation_id\u001B[49m\u001B[43m,\u001B[49m\n\u001B[32m    416\u001B[39m \u001B[43m    \u001B[49m\u001B[43m)\u001B[49m\n\u001B[32m    417\u001B[39m     \u001B[38;5;28;01mif\u001B[39;00m _csot.get_timeout():\n\u001B[32m    418\u001B[39m         _csot.set_rtt(server.description.min_round_trip_time)\n",
      "\u001B[36mFile \u001B[39m\u001B[32m~/Documents/HSG/db_project/topjodel/.venv/lib/python3.12/site-packages/pymongo/synchronous/topology.py:387\u001B[39m, in \u001B[36mTopology._select_server\u001B[39m\u001B[34m(self, selector, operation, server_selection_timeout, address, deprioritized_servers, operation_id)\u001B[39m\n\u001B[32m    378\u001B[39m \u001B[38;5;28;01mdef\u001B[39;00m\u001B[38;5;250m \u001B[39m\u001B[34m_select_server\u001B[39m(\n\u001B[32m    379\u001B[39m     \u001B[38;5;28mself\u001B[39m,\n\u001B[32m    380\u001B[39m     selector: Callable[[Selection], Selection],\n\u001B[32m   (...)\u001B[39m\u001B[32m    385\u001B[39m     operation_id: Optional[\u001B[38;5;28mint\u001B[39m] = \u001B[38;5;28;01mNone\u001B[39;00m,\n\u001B[32m    386\u001B[39m ) -> Server:\n\u001B[32m--> \u001B[39m\u001B[32m387\u001B[39m     servers = \u001B[38;5;28;43mself\u001B[39;49m\u001B[43m.\u001B[49m\u001B[43mselect_servers\u001B[49m\u001B[43m(\u001B[49m\n\u001B[32m    388\u001B[39m \u001B[43m        \u001B[49m\u001B[43mselector\u001B[49m\u001B[43m,\u001B[49m\u001B[43m \u001B[49m\u001B[43moperation\u001B[49m\u001B[43m,\u001B[49m\u001B[43m \u001B[49m\u001B[43mserver_selection_timeout\u001B[49m\u001B[43m,\u001B[49m\u001B[43m \u001B[49m\u001B[43maddress\u001B[49m\u001B[43m,\u001B[49m\u001B[43m \u001B[49m\u001B[43moperation_id\u001B[49m\n\u001B[32m    389\u001B[39m \u001B[43m    \u001B[49m\u001B[43m)\u001B[49m\n\u001B[32m    390\u001B[39m     servers = _filter_servers(servers, deprioritized_servers)\n\u001B[32m    391\u001B[39m     \u001B[38;5;28;01mif\u001B[39;00m \u001B[38;5;28mlen\u001B[39m(servers) == \u001B[32m1\u001B[39m:\n",
      "\u001B[36mFile \u001B[39m\u001B[32m~/Documents/HSG/db_project/topjodel/.venv/lib/python3.12/site-packages/pymongo/synchronous/topology.py:294\u001B[39m, in \u001B[36mTopology.select_servers\u001B[39m\u001B[34m(self, selector, operation, server_selection_timeout, address, operation_id)\u001B[39m\n\u001B[32m    291\u001B[39m     \u001B[38;5;28mself\u001B[39m.cleanup_monitors()\n\u001B[32m    293\u001B[39m \u001B[38;5;28;01mwith\u001B[39;00m \u001B[38;5;28mself\u001B[39m._lock:\n\u001B[32m--> \u001B[39m\u001B[32m294\u001B[39m     server_descriptions = \u001B[38;5;28;43mself\u001B[39;49m\u001B[43m.\u001B[49m\u001B[43m_select_servers_loop\u001B[49m\u001B[43m(\u001B[49m\n\u001B[32m    295\u001B[39m \u001B[43m        \u001B[49m\u001B[43mselector\u001B[49m\u001B[43m,\u001B[49m\u001B[43m \u001B[49m\u001B[43mserver_timeout\u001B[49m\u001B[43m,\u001B[49m\u001B[43m \u001B[49m\u001B[43moperation\u001B[49m\u001B[43m,\u001B[49m\u001B[43m \u001B[49m\u001B[43moperation_id\u001B[49m\u001B[43m,\u001B[49m\u001B[43m \u001B[49m\u001B[43maddress\u001B[49m\n\u001B[32m    296\u001B[39m \u001B[43m    \u001B[49m\u001B[43m)\u001B[49m\n\u001B[32m    298\u001B[39m     \u001B[38;5;28;01mreturn\u001B[39;00m [\n\u001B[32m    299\u001B[39m         cast(Server, \u001B[38;5;28mself\u001B[39m.get_server_by_address(sd.address)) \u001B[38;5;28;01mfor\u001B[39;00m sd \u001B[38;5;129;01min\u001B[39;00m server_descriptions\n\u001B[32m    300\u001B[39m     ]\n",
      "\u001B[36mFile \u001B[39m\u001B[32m~/Documents/HSG/db_project/topjodel/.venv/lib/python3.12/site-packages/pymongo/synchronous/topology.py:344\u001B[39m, in \u001B[36mTopology._select_servers_loop\u001B[39m\u001B[34m(self, selector, timeout, operation, operation_id, address)\u001B[39m\n\u001B[32m    333\u001B[39m     \u001B[38;5;28;01mif\u001B[39;00m _SERVER_SELECTION_LOGGER.isEnabledFor(logging.DEBUG):\n\u001B[32m    334\u001B[39m         _debug_log(\n\u001B[32m    335\u001B[39m             _SERVER_SELECTION_LOGGER,\n\u001B[32m    336\u001B[39m             message=_ServerSelectionStatusMessage.FAILED,\n\u001B[32m   (...)\u001B[39m\u001B[32m    342\u001B[39m             failure=\u001B[38;5;28mself\u001B[39m._error_message(selector),\n\u001B[32m    343\u001B[39m         )\n\u001B[32m--> \u001B[39m\u001B[32m344\u001B[39m     \u001B[38;5;28;01mraise\u001B[39;00m ServerSelectionTimeoutError(\n\u001B[32m    345\u001B[39m         \u001B[33mf\u001B[39m\u001B[33m\"\u001B[39m\u001B[38;5;132;01m{\u001B[39;00m\u001B[38;5;28mself\u001B[39m._error_message(selector)\u001B[38;5;132;01m}\u001B[39;00m\u001B[33m, Timeout: \u001B[39m\u001B[38;5;132;01m{\u001B[39;00mtimeout\u001B[38;5;132;01m}\u001B[39;00m\u001B[33ms, Topology Description: \u001B[39m\u001B[38;5;132;01m{\u001B[39;00m\u001B[38;5;28mself\u001B[39m.description\u001B[38;5;132;01m!r}\u001B[39;00m\u001B[33m\"\u001B[39m\n\u001B[32m    346\u001B[39m     )\n\u001B[32m    348\u001B[39m \u001B[38;5;28;01mif\u001B[39;00m \u001B[38;5;129;01mnot\u001B[39;00m logged_waiting:\n\u001B[32m    349\u001B[39m     _debug_log(\n\u001B[32m    350\u001B[39m         _SERVER_SELECTION_LOGGER,\n\u001B[32m    351\u001B[39m         message=_ServerSelectionStatusMessage.WAITING,\n\u001B[32m   (...)\u001B[39m\u001B[32m    357\u001B[39m         remainingTimeMS=\u001B[38;5;28mint\u001B[39m(\u001B[32m1000\u001B[39m * (end_time - time.monotonic())),\n\u001B[32m    358\u001B[39m     )\n",
      "\u001B[31mServerSelectionTimeoutError\u001B[39m: mongo:27017: [Errno 8] nodename nor servname provided, or not known (configured timeouts: socketTimeoutMS: 20000.0ms, connectTimeoutMS: 20000.0ms), Timeout: 30s, Topology Description: <TopologyDescription id: 68ef71c6fe665bad9f40aafe, topology_type: Unknown, servers: [<ServerDescription ('mongo', 27017) server_type: Unknown, rtt: None, error=AutoReconnect('mongo:27017: [Errno 8] nodename nor servname provided, or not known (configured timeouts: socketTimeoutMS: 20000.0ms, connectTimeoutMS: 20000.0ms)')>]>"
     ]
    }
   ],
   "execution_count": 35
  },
  {
   "cell_type": "markdown",
   "id": "35e2531e",
   "metadata": {},
   "source": [
    "### Query comments for a given post_id"
   ]
  },
  {
   "cell_type": "code",
   "execution_count": 6,
   "id": "6be8e8be",
   "metadata": {},
   "outputs": [
    {
     "data": {
      "text/html": [
       "<div>\n",
       "<style scoped>\n",
       "    .dataframe tbody tr th:only-of-type {\n",
       "        vertical-align: middle;\n",
       "    }\n",
       "\n",
       "    .dataframe tbody tr th {\n",
       "        vertical-align: top;\n",
       "    }\n",
       "\n",
       "    .dataframe thead th {\n",
       "        text-align: right;\n",
       "    }\n",
       "</style>\n",
       "<table border=\"1\" class=\"dataframe\">\n",
       "  <thead>\n",
       "    <tr style=\"text-align: right;\">\n",
       "      <th></th>\n",
       "      <th>post_id</th>\n",
       "      <th>author</th>\n",
       "      <th>text</th>\n",
       "      <th>created_at</th>\n",
       "    </tr>\n",
       "  </thead>\n",
       "  <tbody>\n",
       "    <tr>\n",
       "      <th>0</th>\n",
       "      <td>1</td>\n",
       "      <td>bob</td>\n",
       "      <td>Nice first post!</td>\n",
       "      <td>2025-10-13 09:56:46.374</td>\n",
       "    </tr>\n",
       "    <tr>\n",
       "      <th>1</th>\n",
       "      <td>1</td>\n",
       "      <td>carol</td>\n",
       "      <td>Welcome Alice!</td>\n",
       "      <td>2025-10-13 09:56:46.374</td>\n",
       "    </tr>\n",
       "  </tbody>\n",
       "</table>\n",
       "</div>"
      ],
      "text/plain": [
       "   post_id author              text              created_at\n",
       "0        1    bob  Nice first post! 2025-10-13 09:56:46.374\n",
       "1        1  carol    Welcome Alice! 2025-10-13 09:56:46.374"
      ]
     },
     "execution_count": 6,
     "metadata": {},
     "output_type": "execute_result"
    }
   ],
   "source": [
    "pd.DataFrame(list(comments.find({\"post_id\": 1}, {\"_id\": 0})))\n"
   ]
  },
  {
   "cell_type": "markdown",
   "id": "3b0b41f8",
   "metadata": {},
   "source": [
    "## Neo4j - relationships"
   ]
  },
  {
   "cell_type": "code",
   "execution_count": 7,
   "id": "4a228430",
   "metadata": {},
   "outputs": [
    {
     "name": "stdout",
     "output_type": "stream",
     "text": [
      "Graph prepared.\n"
     ]
    }
   ],
   "source": [
    "from neo4j import GraphDatabase\n",
    "\n",
    "driver = GraphDatabase.driver(NEO4J_URI, auth=(NEO4J_USER, NEO4J_PASSWORD))\n",
    "\n",
    "def run_cypher(query, params=None):\n",
    "    with driver.session() as session:\n",
    "        return list(session.run(query, params or {}))\n",
    "\n",
    "# Constraints and sample data\n",
    "run_cypher(\"CREATE CONSTRAINT IF NOT EXISTS FOR (u:User) REQUIRE u.username IS UNIQUE\")\n",
    "run_cypher(\"UNWIND $users AS u MERGE (:User {username: u})\", {\"users\": [\"alice\", \"bob\", \"carol\"]})\n",
    "run_cypher(\"MATCH (a:User {username:'alice'}), (b:User {username:'bob'}) MERGE (a)-[:FOLLOWS]->(b)\")\n",
    "run_cypher(\"MATCH (b:User {username:'bob'}), (c:User {username:'carol'}) MERGE (b)-[:FOLLOWS]->(c)\")\n",
    "run_cypher(\"MATCH (a:User {username:'alice'}), (c:User {username:'carol'}) MERGE (a)-[:FOLLOWS]->(c)\")\n",
    "\n",
    "# Likes - pretend likes map to post ids from Postgres\n",
    "run_cypher(\"\"\"MERGE (p1:Post {id: 1})\n",
    "MERGE (p2:Post {id: 2})\n",
    "MERGE (p3:Post {id: 3})\n",
    "MERGE (p4:Post {id: 4})\n",
    "WITH p1,p2,p3,p4\n",
    "MATCH (a:User {username:'alice'}), (b:User {username:'bob'}), (c:User {username:'carol'})\n",
    "MERGE (b)-[:LIKES]->(p1)\n",
    "MERGE (c)-[:LIKES]->(p1)\n",
    "MERGE (a)-[:LIKES]->(p2)\n",
    "MERGE (a)-[:LIKES]->(p4);\n",
    "\"\"\")\n",
    "print(\"Graph prepared.\")\n"
   ]
  },
  {
   "cell_type": "markdown",
   "id": "d407fc85",
   "metadata": {},
   "source": [
    "### Query the follow graph"
   ]
  },
  {
   "cell_type": "code",
   "execution_count": 8,
   "id": "0bc7f5a5",
   "metadata": {},
   "outputs": [
    {
     "data": {
      "text/html": [
       "<div>\n",
       "<style scoped>\n",
       "    .dataframe tbody tr th:only-of-type {\n",
       "        vertical-align: middle;\n",
       "    }\n",
       "\n",
       "    .dataframe tbody tr th {\n",
       "        vertical-align: top;\n",
       "    }\n",
       "\n",
       "    .dataframe thead th {\n",
       "        text-align: right;\n",
       "    }\n",
       "</style>\n",
       "<table border=\"1\" class=\"dataframe\">\n",
       "  <thead>\n",
       "    <tr style=\"text-align: right;\">\n",
       "      <th></th>\n",
       "      <th>follower</th>\n",
       "      <th>followed</th>\n",
       "    </tr>\n",
       "  </thead>\n",
       "  <tbody>\n",
       "    <tr>\n",
       "      <th>0</th>\n",
       "      <td>alice</td>\n",
       "      <td>bob</td>\n",
       "    </tr>\n",
       "    <tr>\n",
       "      <th>1</th>\n",
       "      <td>alice</td>\n",
       "      <td>carol</td>\n",
       "    </tr>\n",
       "    <tr>\n",
       "      <th>2</th>\n",
       "      <td>bob</td>\n",
       "      <td>carol</td>\n",
       "    </tr>\n",
       "  </tbody>\n",
       "</table>\n",
       "</div>"
      ],
      "text/plain": [
       "  follower followed\n",
       "0    alice      bob\n",
       "1    alice    carol\n",
       "2      bob    carol"
      ]
     },
     "execution_count": 8,
     "metadata": {},
     "output_type": "execute_result"
    }
   ],
   "source": [
    "rows = run_cypher(\"MATCH (u:User)-[:FOLLOWS]->(v:User) RETURN u.username AS follower, v.username AS followed ORDER BY follower, followed\")\n",
    "pd.DataFrame([dict(r) for r in rows])\n"
   ]
  },
  {
   "cell_type": "markdown",
   "id": "2bd048f5",
   "metadata": {},
   "source": [
    "## Cross-database example idea"
   ]
  },
  {
   "cell_type": "code",
   "execution_count": 9,
   "id": "c19f2e63",
   "metadata": {},
   "outputs": [
    {
     "name": "stderr",
     "output_type": "stream",
     "text": [
      "/tmp/ipykernel_197/2279141356.py:2: UserWarning: pandas only supports SQLAlchemy connectable (engine/connection) or database string URI or sqlite3 DBAPI2 connection. Other DBAPI2 objects are not tested. Please consider using SQLAlchemy.\n",
      "  posts = pd.read_sql(\"SELECT id, body FROM posts ORDER BY id\", conn)\n"
     ]
    },
    {
     "data": {
      "text/html": [
       "<div>\n",
       "<style scoped>\n",
       "    .dataframe tbody tr th:only-of-type {\n",
       "        vertical-align: middle;\n",
       "    }\n",
       "\n",
       "    .dataframe tbody tr th {\n",
       "        vertical-align: top;\n",
       "    }\n",
       "\n",
       "    .dataframe thead th {\n",
       "        text-align: right;\n",
       "    }\n",
       "</style>\n",
       "<table border=\"1\" class=\"dataframe\">\n",
       "  <thead>\n",
       "    <tr style=\"text-align: right;\">\n",
       "      <th></th>\n",
       "      <th>id</th>\n",
       "      <th>body</th>\n",
       "      <th>comment_count</th>\n",
       "    </tr>\n",
       "  </thead>\n",
       "  <tbody>\n",
       "    <tr>\n",
       "      <th>0</th>\n",
       "      <td>1</td>\n",
       "      <td>Hello world from Alice</td>\n",
       "      <td>2</td>\n",
       "    </tr>\n",
       "    <tr>\n",
       "      <th>1</th>\n",
       "      <td>2</td>\n",
       "      <td>Bob here, nice to meet you</td>\n",
       "      <td>1</td>\n",
       "    </tr>\n",
       "    <tr>\n",
       "      <th>2</th>\n",
       "      <td>3</td>\n",
       "      <td>Another post by Alice</td>\n",
       "      <td>0</td>\n",
       "    </tr>\n",
       "    <tr>\n",
       "      <th>3</th>\n",
       "      <td>4</td>\n",
       "      <td>Carol checking in</td>\n",
       "      <td>0</td>\n",
       "    </tr>\n",
       "  </tbody>\n",
       "</table>\n",
       "</div>"
      ],
      "text/plain": [
       "   id                        body  comment_count\n",
       "0   1      Hello world from Alice              2\n",
       "1   2  Bob here, nice to meet you              1\n",
       "2   3       Another post by Alice              0\n",
       "3   4           Carol checking in              0"
      ]
     },
     "execution_count": 9,
     "metadata": {},
     "output_type": "execute_result"
    }
   ],
   "source": [
    "# Example: For each Postgres post, attach MongoDB comment count\n",
    "posts = pd.read_sql(\"SELECT id, body FROM posts ORDER BY id\", conn)\n",
    "comment_counts = {doc[\"post_id\"]: doc[\"count\"] for doc in comments.aggregate([{\"$group\": {\"_id\": \"$post_id\", \"count\": {\"$sum\": 1}}}, {\"$project\": {\"_id\": 0, \"post_id\": \"$_id\", \"count\": 1}}])}\n",
    "posts[\"comment_count\"] = posts[\"id\"].map(comment_counts).fillna(0).astype(int)\n",
    "posts\n"
   ]
  },
  {
   "cell_type": "markdown",
   "id": "34947b25",
   "metadata": {},
   "source": [
    "### Next steps\n",
    "- Add pagination queries in Postgres\n",
    "- Model user profiles in MongoDB\n",
    "- Model richer relationships in Neo4j\n",
    "- Consider eventual consistency notes across the three stores"
   ]
  }
 ],
 "metadata": {
  "kernelspec": {
   "display_name": "Python 3 (ipykernel)",
   "language": "python",
   "name": "python3"
  },
  "language_info": {
   "codemirror_mode": {
    "name": "ipython",
    "version": 3
   },
   "file_extension": ".py",
   "mimetype": "text/x-python",
   "name": "python",
   "nbconvert_exporter": "python",
   "pygments_lexer": "ipython3",
   "version": "3.11.6"
  }
 },
 "nbformat": 4,
 "nbformat_minor": 5
}
