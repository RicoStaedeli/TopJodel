{
 "cells": [
  {
   "cell_type": "markdown",
   "id": "c7870461",
   "metadata": {},
   "source": [
    "# Mini Social - Setup and Queries\n",
    "\n",
    "This notebook connects to PostgreSQL, MongoDB, and Neo4j, then walks you through creating a tiny social media data model and running a few queries."
   ]
  },
  {
   "cell_type": "code",
   "execution_count": null,
   "id": "f538eac9",
   "metadata": {},
   "outputs": [],
   "source": [
    "import os\n",
    "import pandas as pd\n",
    "import time\n",
    "\n",
    "# Connection info from environment\n",
    "PGHOST = os.getenv(\"PGHOST\", \"localhost\")\n",
    "PGPORT = int(os.getenv(\"PGPORT\", \"5432\"))\n",
    "PGUSER = os.getenv(\"PGUSER\", \"app\")\n",
    "PGPASSWORD = os.getenv(\"PGPASSWORD\", \"app_pw\")\n",
    "PGDATABASE = os.getenv(\"PGDATABASE\", \"socialdb\")\n",
    "\n",
    "MONGO_HOST = os.getenv(\"MONGO_HOST\", \"localhost\")\n",
    "MONGO_PORT = int(os.getenv(\"MONGO_PORT\", \"27017\"))\n",
    "MONGO_USER = os.getenv(\"MONGO_USER\", \"app\")\n",
    "MONGO_PASSWORD = os.getenv(\"MONGO_PASSWORD\", \"app_pw\")\n",
    "\n",
    "NEO4J_URI = os.getenv(\"NEO4J_URI\", \"bolt://localhost:7687\")\n",
    "NEO4J_USER = os.getenv(\"NEO4J_USER\", \"neo4j\")\n",
    "NEO4J_PASSWORD = os.getenv(\"NEO4J_PASSWORD\", \"app_pw\")\n",
    "\n",
    "PGHOST, PGPORT, PGUSER, PGDATABASE, MONGO_HOST, MONGO_PORT, NEO4J_URI\n"
   ]
  },
  {
   "cell_type": "markdown",
   "id": "7f1b7864",
   "metadata": {},
   "source": [
    "## PostgreSQL - create tables"
   ]
  },
  {
   "cell_type": "code",
   "execution_count": null,
   "id": "e6e3d19f",
   "metadata": {},
   "outputs": [],
   "source": [
    "import psycopg2\n",
    "from psycopg2.extras import execute_values\n",
    "\n",
    "conn = psycopg2.connect(\n",
    "    host=PGHOST, port=PGPORT, user=PGUSER, password=PGPASSWORD, dbname=PGDATABASE\n",
    ")\n",
    "conn.autocommit = True\n",
    "cur = conn.cursor()\n",
    "\n",
    "# Create tables\n",
    "cur.execute(\"\"\"CREATE TABLE IF NOT EXISTS users (\n",
    "  id SERIAL PRIMARY KEY,\n",
    "  username TEXT UNIQUE NOT NULL,\n",
    "  full_name TEXT,\n",
    "  created_at TIMESTAMPTZ DEFAULT NOW()\n",
    ");\n",
    "\"\"\")\n",
    "\n",
    "cur.execute(\"\"\"CREATE TABLE IF NOT EXISTS posts (\n",
    "  id SERIAL PRIMARY KEY,\n",
    "  user_id INTEGER NOT NULL REFERENCES users(id) ON DELETE CASCADE,\n",
    "  body TEXT NOT NULL,\n",
    "  created_at TIMESTAMPTZ DEFAULT NOW()\n",
    ");\n",
    "\"\"\")\n",
    "\n",
    "print(\"Tables created.\")\n"
   ]
  },
  {
   "cell_type": "markdown",
   "id": "2def1697",
   "metadata": {},
   "source": [
    "### Insert sample users and posts"
   ]
  },
  {
   "cell_type": "code",
   "execution_count": null,
   "id": "d1af0e6c",
   "metadata": {},
   "outputs": [],
   "source": [
    "# Insert sample data only if empty\n",
    "cur.execute(\"SELECT COUNT(*) FROM users;\")\n",
    "count_users = cur.fetchone()[0]\n",
    "if count_users == 0:\n",
    "    users = [(\"alice\", \"Alice Example\"), (\"bob\", \"Bob Sample\"), (\"carol\", \"Carol Demo\")]\n",
    "    execute_values(cur, \"INSERT INTO users (username, full_name) VALUES %s ON CONFLICT DO NOTHING;\", users)\n",
    "\n",
    "cur.execute(\"SELECT COUNT(*) FROM posts;\")\n",
    "count_posts = cur.fetchone()[0]\n",
    "if count_posts == 0:\n",
    "    posts = [\n",
    "        (1, \"Hello world from Alice\"),\n",
    "        (2, \"Bob here, nice to meet you\"),\n",
    "        (1, \"Another post by Alice\"),\n",
    "        (3, \"Carol checking in\"),\n",
    "    ]\n",
    "    execute_values(cur, \"INSERT INTO posts (user_id, body) VALUES %s;\", posts)\n",
    "\n",
    "print(\"Sample data present.\")\n"
   ]
  },
  {
   "cell_type": "markdown",
   "id": "f9ae8d91",
   "metadata": {},
   "source": [
    "### Query posts with users"
   ]
  },
  {
   "cell_type": "code",
   "execution_count": null,
   "id": "53592693",
   "metadata": {},
   "outputs": [],
   "source": [
    "df = pd.read_sql(\"SELECT p.id, u.username, p.body, p.created_at FROM posts p JOIN users u ON p.user_id=u.id ORDER BY p.id;\", conn)\n",
    "df\n"
   ]
  },
  {
   "cell_type": "markdown",
   "id": "a6ae75c9",
   "metadata": {},
   "source": [
    "## MongoDB - comments collection"
   ]
  },
  {
   "cell_type": "code",
   "execution_count": null,
   "id": "affc06ec",
   "metadata": {},
   "outputs": [],
   "source": [
    "from pymongo import MongoClient\n",
    "\n",
    "mongo_uri = f\"mongodb://{MONGO_USER}:{MONGO_PASSWORD}@{MONGO_HOST}:{MONGO_PORT}/?authSource=admin\"\n",
    "mc = MongoClient(mongo_uri)\n",
    "mdb = mc[\"socialdb\"]\n",
    "comments = mdb[\"comments\"]\n",
    "\n",
    "# Create sample comments if empty\n",
    "if comments.count_documents({}) == 0:\n",
    "    comments.insert_many([\n",
    "        {\"post_id\": 1, \"author\": \"bob\", \"text\": \"Nice first post!\", \"created_at\": pd.Timestamp.utcnow()},\n",
    "        {\"post_id\": 1, \"author\": \"carol\", \"text\": \"Welcome Alice!\", \"created_at\": pd.Timestamp.utcnow()},\n",
    "        {\"post_id\": 2, \"author\": \"alice\", \"text\": \"Hi Bob!\", \"created_at\": pd.Timestamp.utcnow()},\n",
    "    ])\n",
    "list(comments.find().limit(5))\n"
   ]
  },
  {
   "cell_type": "markdown",
   "id": "35e2531e",
   "metadata": {},
   "source": [
    "### Query comments for a given post_id"
   ]
  },
  {
   "cell_type": "code",
   "execution_count": null,
   "id": "6be8e8be",
   "metadata": {},
   "outputs": [],
   "source": [
    "pd.DataFrame(list(comments.find({\"post_id\": 1}, {\"_id\": 0})))\n"
   ]
  },
  {
   "cell_type": "markdown",
   "id": "3b0b41f8",
   "metadata": {},
   "source": [
    "## Neo4j - relationships"
   ]
  },
  {
   "cell_type": "code",
   "execution_count": null,
   "id": "4a228430",
   "metadata": {},
   "outputs": [],
   "source": [
    "from neo4j import GraphDatabase\n",
    "\n",
    "driver = GraphDatabase.driver(NEO4J_URI, auth=(NEO4J_USER, NEO4J_PASSWORD))\n",
    "\n",
    "def run_cypher(query, params=None):\n",
    "    with driver.session() as session:\n",
    "        return list(session.run(query, params or {}))\n",
    "\n",
    "# Constraints and sample data\n",
    "run_cypher(\"CREATE CONSTRAINT IF NOT EXISTS FOR (u:User) REQUIRE u.username IS UNIQUE\")\n",
    "run_cypher(\"UNWIND $users AS u MERGE (:User {username: u})\", {\"users\": [\"alice\", \"bob\", \"carol\"]})\n",
    "run_cypher(\"MATCH (a:User {username:'alice'}), (b:User {username:'bob'}) MERGE (a)-[:FOLLOWS]->(b)\")\n",
    "run_cypher(\"MATCH (b:User {username:'bob'}), (c:User {username:'carol'}) MERGE (b)-[:FOLLOWS]->(c)\")\n",
    "run_cypher(\"MATCH (a:User {username:'alice'}), (c:User {username:'carol'}) MERGE (a)-[:FOLLOWS]->(c)\")\n",
    "\n",
    "# Likes - pretend likes map to post ids from Postgres\n",
    "run_cypher(\"\"\"MERGE (p1:Post {id: 1})\n",
    "MERGE (p2:Post {id: 2})\n",
    "MERGE (p3:Post {id: 3})\n",
    "MERGE (p4:Post {id: 4})\n",
    "WITH p1,p2,p3,p4\n",
    "MATCH (a:User {username:'alice'}), (b:User {username:'bob'}), (c:User {username:'carol'})\n",
    "MERGE (b)-[:LIKES]->(p1)\n",
    "MERGE (c)-[:LIKES]->(p1)\n",
    "MERGE (a)-[:LIKES]->(p2)\n",
    "MERGE (a)-[:LIKES]->(p4);\n",
    "\"\"\")\n",
    "print(\"Graph prepared.\")\n"
   ]
  },
  {
   "cell_type": "markdown",
   "id": "d407fc85",
   "metadata": {},
   "source": [
    "### Query the follow graph"
   ]
  },
  {
   "cell_type": "code",
   "execution_count": null,
   "id": "0bc7f5a5",
   "metadata": {},
   "outputs": [],
   "source": [
    "rows = run_cypher(\"MATCH (u:User)-[:FOLLOWS]->(v:User) RETURN u.username AS follower, v.username AS followed ORDER BY follower, followed\")\n",
    "pd.DataFrame([dict(r) for r in rows])\n"
   ]
  },
  {
   "cell_type": "markdown",
   "id": "2bd048f5",
   "metadata": {},
   "source": [
    "## Cross-database example idea"
   ]
  },
  {
   "cell_type": "code",
   "execution_count": null,
   "id": "c19f2e63",
   "metadata": {},
   "outputs": [],
   "source": [
    "# Example: For each Postgres post, attach MongoDB comment count\n",
    "posts = pd.read_sql(\"SELECT id, body FROM posts ORDER BY id\", conn)\n",
    "comment_counts = {doc[\"post_id\"]: doc[\"count\"] for doc in comments.aggregate([{\"$group\": {\"_id\": \"$post_id\", \"count\": {\"$sum\": 1}}}, {\"$project\": {\"_id\": 0, \"post_id\": \"$_id\", \"count\": 1}}])}\n",
    "posts[\"comment_count\"] = posts[\"id\"].map(comment_counts).fillna(0).astype(int)\n",
    "posts\n"
   ]
  },
  {
   "cell_type": "markdown",
   "id": "34947b25",
   "metadata": {},
   "source": [
    "### Next steps\n",
    "- Add pagination queries in Postgres\n",
    "- Model user profiles in MongoDB\n",
    "- Model richer relationships in Neo4j\n",
    "- Consider eventual consistency notes across the three stores"
   ]
  }
 ],
 "metadata": {},
 "nbformat": 4,
 "nbformat_minor": 5
}
