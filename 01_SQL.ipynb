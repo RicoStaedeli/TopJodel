{
 "cells": [
  {
   "cell_type": "markdown",
   "id": "c7870461",
   "metadata": {},
   "source": "# TopJodel - SQL"
  },
  {
   "metadata": {},
   "cell_type": "markdown",
   "source": "## initialize SQL tables",
   "id": "2f97c5c99c6217b8"
  },
  {
   "metadata": {},
   "cell_type": "code",
   "outputs": [],
   "execution_count": null,
   "source": [
    "from SQL.initialize import create_tables\n",
    "\n",
    "create_tables()"
   ],
   "id": "94b4f7e36298c237"
  },
  {
   "metadata": {},
   "cell_type": "markdown",
   "source": "## Register user",
   "id": "38a5de471119df45"
  },
  {
   "metadata": {},
   "cell_type": "code",
   "outputs": [],
   "execution_count": null,
   "source": [
    "from SQL.Authentication.user import register_user\n",
    "\n",
    "register_user(\"test\", \"test@test.ch\", \"Test1234\", \"Max\", \"Mustermann\")"
   ],
   "id": "30591729768f62f5"
  },
  {
   "metadata": {},
   "cell_type": "markdown",
   "source": "## Login user",
   "id": "3687866db356097a"
  },
  {
   "metadata": {},
   "cell_type": "code",
   "outputs": [],
   "execution_count": null,
   "source": [
    "from SQL.Authentication.user import login_user\n",
    "\n",
    "session = login_user(\"test1@test.ch\", \"Test1234\")\n",
    "\n",
    "user_id = session[\"user_id\"]\n",
    "token = session[\"token\"]"
   ],
   "id": "7490f86f6990203"
  },
  {
   "metadata": {},
   "cell_type": "markdown",
   "source": "## Change user credentials",
   "id": "e395c68c8e35ba3f"
  },
  {
   "metadata": {},
   "cell_type": "code",
   "outputs": [],
   "execution_count": null,
   "source": [
    "from SQL.Authentication.user import change_credentials\n",
    "\n",
    "change_credentials(session[\"user_id\"], session[\"token\"], \"test@test.ch\",\"Test1234\", \"test@test.ch\" ,None)"
   ],
   "id": "2e6bddd3b383d811"
  },
  {
   "metadata": {},
   "cell_type": "markdown",
   "source": "## Retrieve User",
   "id": "e323408c1cb26326"
  },
  {
   "metadata": {},
   "cell_type": "code",
   "outputs": [],
   "execution_count": null,
   "source": [
    "from SQL.Authentication.user import retrieve_user\n",
    "\n",
    "retrieve_user(user_id)"
   ],
   "id": "7cde864e6afa5b15"
  },
  {
   "metadata": {},
   "cell_type": "markdown",
   "source": "## Profile search operations",
   "id": "28b16a9cd41a1973"
  },
  {
   "metadata": {},
   "cell_type": "code",
   "outputs": [],
   "execution_count": null,
   "source": [
    "from SQL.Profil.retrieve import retrieve_profiles_by_user_id\n",
    "\n",
    "profiles = retrieve_profiles_by_user_id(user_id)\n",
    "print(profiles)"
   ],
   "id": "3b33c5094e6b27eb"
  },
  {
   "metadata": {},
   "cell_type": "code",
   "outputs": [],
   "execution_count": null,
   "source": [
    "from SQL.Profil.retrieve import retrieve_profile_by_id\n",
    "\n",
    "retrieve_profile_by_id(profiles[0][\"id\"])"
   ],
   "id": "7ff5c3e59ea7c3a1"
  },
  {
   "metadata": {},
   "cell_type": "code",
   "outputs": [],
   "execution_count": null,
   "source": [
    "from SQL.Profil.retrieve import retrieve_profile_ids\n",
    "\n",
    "query = {\"username\": \"test\", \"last_name\": \"Müller\"}\n",
    "retrieve_profile_ids(\"OR\", query)"
   ],
   "id": "9e12d3e8090d9930"
  },
  {
   "metadata": {},
   "cell_type": "markdown",
   "source": "## Change profile",
   "id": "181af4bdd3994272"
  },
  {
   "metadata": {},
   "cell_type": "code",
   "outputs": [],
   "execution_count": null,
   "source": [
    "from SQL.Profil.change import change_profile\n",
    "\n",
    "change_query = {\"username\": \"test2\", \"last_name\": \"Bäcker\"}\n",
    "\n",
    "change_profile(token, user_id, profiles[0][\"id\"], change_query)"
   ],
   "id": "2d7773925a2cc002"
  },
  {
   "metadata": {},
   "cell_type": "markdown",
   "source": "## Delete user -> Delete profile cascade",
   "id": "f87ea9426923227a"
  },
  {
   "metadata": {},
   "cell_type": "code",
   "outputs": [],
   "execution_count": null,
   "source": [
    "from SQL.Authentication.user import delete_user\n",
    "\n",
    "delete_user(user_id, token, \"test@test.ch\", \"Test1234\")"
   ],
   "id": "f2cc02a22ae15187"
  },
  {
   "metadata": {},
   "cell_type": "markdown",
   "source": "## Logout user",
   "id": "5ea0c7deb91a7274"
  },
  {
   "metadata": {},
   "cell_type": "code",
   "outputs": [],
   "execution_count": null,
   "source": [
    "from SQL.Authentication.user import logout_user\n",
    "\n",
    "logout_user(session[\"token\"])"
   ],
   "id": "584766669e85e6c3"
  }
 ],
 "metadata": {
  "kernelspec": {
   "display_name": "Python 3 (ipykernel)",
   "language": "python",
   "name": "python3"
  },
  "language_info": {
   "codemirror_mode": {
    "name": "ipython",
    "version": 3
   },
   "file_extension": ".py",
   "mimetype": "text/x-python",
   "name": "python",
   "nbconvert_exporter": "python",
   "pygments_lexer": "ipython3",
   "version": "3.11.6"
  }
 },
 "nbformat": 4,
 "nbformat_minor": 5
}
